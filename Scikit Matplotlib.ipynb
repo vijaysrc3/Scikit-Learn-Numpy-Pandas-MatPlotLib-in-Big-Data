{
 "cells": [
  {
   "cell_type": "markdown",
   "metadata": {},
   "source": [
    "<h1 style='text-aling:center;color:Navy'>  Big Data Systems - Fall 2021  </h1>\n",
    "<h1 style='text-aling:center;color:Navy'>  Assignment 4  </h1>\n",
    "\n",
    "***"
   ]
  },
  {
   "cell_type": "markdown",
   "metadata": {},
   "source": [
    "<b>Submission Deadline: This assignment is due Wednesday, Oct 27 at 11:59 P.M.</b>\n",
    "\n",
    "A few notes before you start:\n",
    "- Directly sharing answers is not okay, but discussing problems with other students is encouraged.\n",
    "- You should start early so that you have time to get help if you're stuck.\n",
    "\n",
    "- Before continuing the assignment, select \"Save and Checkpoint\" in the File menu and then execute the submit cell below. The result will contain a link that you can use to check that your assignment has been submitted successfully. If you submit more than once before the deadline, we will only grade your final submission. If you mistakenly submit the wrong one, you can head to okpy.org and flag the correct version. There will be another submit cell at the end of the assignment when you finish!"
   ]
  },
  {
   "cell_type": "markdown",
   "metadata": {},
   "source": [
    "<hr style=\"border-top: 5px solid orange; margin-top: 1px; margin-bottom: 1px\"></hr>\n",
    "<br>\n",
    "Before you begin completing the assignment, execute the following cell to load the provided tests."
   ]
  },
  {
   "cell_type": "code",
   "execution_count": 45,
   "metadata": {},
   "outputs": [
    {
     "name": "stdout",
     "output_type": "stream",
     "text": [
      "=====================================================================\n",
      "Assignment: Assignment4: Data-Modeling\n",
      "OK, version v1.15.44\n",
      "=====================================================================\n",
      "\n"
     ]
    }
   ],
   "source": [
    "# Don't change this cell; just run it. \n",
    "# When you log-in please hit return (not shift + return) after typing in your email\n",
    "from client.api.notebook import Notebook\n",
    "ok = Notebook('Assignment4.ok')"
   ]
  },
  {
   "cell_type": "code",
   "execution_count": 3,
   "metadata": {},
   "outputs": [
    {
     "data": {
      "application/javascript": [
       "IPython.notebook.save_checkpoint();"
      ],
      "text/plain": [
       "<IPython.core.display.Javascript object>"
      ]
     },
     "metadata": {},
     "output_type": "display_data"
    },
    {
     "data": {
      "application/javascript": [
       "IPython.notebook.save_notebook();"
      ],
      "text/plain": [
       "<IPython.core.display.Javascript object>"
      ]
     },
     "metadata": {},
     "output_type": "display_data"
    },
    {
     "name": "stdout",
     "output_type": "stream",
     "text": [
      "Saving notebook... Could not automatically save 'Assignment4.ipynb'\n",
      "Make sure your notebook is correctly named and saved before submitting to OK!\n",
      "Making a best attempt to submit latest 'Assignment4.ipynb', last modified at Fri Oct 29 22:51:57 2021\n",
      "Submit... 0.0% complete\r"
     ]
    },
    {
     "name": "stderr",
     "output_type": "stream",
     "text": [
      "/opt/conda/lib/python3.7/site-packages/urllib3/connectionpool.py:1004: InsecureRequestWarning: Unverified HTTPS request is being made. Adding certificate verification is strongly advised. See: https://urllib3.readthedocs.io/en/latest/advanced-usage.html#ssl-warnings\n",
      "  InsecureRequestWarning,\n"
     ]
    },
    {
     "name": "stdout",
     "output_type": "stream",
     "text": [
      "Submit... 100% complete\n",
      "Submission successful for user: vijayasimha.bheemireddy@ucdenver.edu\n",
      "URL: https://kubemaster.ucdenver.pvt:5000/UCDenver/CSCI4951-5951/fa21/assignment4/submissions/boYJKe\n",
      "\n"
     ]
    }
   ],
   "source": [
    "_ = ok.submit()"
   ]
  },
  {
   "cell_type": "markdown",
   "metadata": {},
   "source": [
    "<hr style=\"border-top: 5px solid orange; margin-top: 1px; margin-bottom: 1px\"></hr>"
   ]
  },
  {
   "cell_type": "markdown",
   "metadata": {},
   "source": [
    "<hr style=\"border-top: 5px solid purple; margin-top: 1px; margin-bottom: 1px\"></hr>"
   ]
  },
  {
   "cell_type": "markdown",
   "metadata": {},
   "source": [
    "# <span style=\"color:#3665af\">Big Data Learning with Scikit-learn </span>\n",
    "<hr>\n",
    "\n",
    "###### Goal\n",
    "In this assignment, we will learn how to use linear regression in Scikit-learn to estimate values in a connected vehicles dataset.\n",
    "\n",
    "###### Prerequisites\n",
    "This assignment has the following dependencies:\n",
    "- Jupyter Notebook, along with the following libraries (which should be installed on the Computing Platform):\n",
    "  - Scikit Learn\n",
    "  - Numpy\n",
    "  - Pandas\n",
    "  - matplotlib\n"
   ]
  },
  {
   "cell_type": "markdown",
   "metadata": {},
   "source": [
    "<div style=\"font-size:30px;color:#3665af;background-color:#E9E9F5;padding:10px;\">Assignment Hands-on "
   ]
  },
  {
   "cell_type": "markdown",
   "metadata": {},
   "source": [
    "<div style=\"font-size:20px;color:#F1F8FC;background-color:#0095EA;padding:10px;\">1. Setup </div>\n",
    "\n",
    "- Visualize the position data, get some intuition about the geography\n",
    "- Reduce the columns to the ones related to position and speed"
   ]
  },
  {
   "cell_type": "code",
   "execution_count": 46,
   "metadata": {},
   "outputs": [],
   "source": [
    "from sklearn import svm\n",
    "from sklearn.model_selection import train_test_split\n",
    "# import numpy as np\n",
    "import pandas as pd\n",
    "\n",
    "%matplotlib inline\n",
    "import matplotlib\n",
    "import matplotlib.pyplot as plt"
   ]
  },
  {
   "cell_type": "code",
   "execution_count": 47,
   "metadata": {},
   "outputs": [
    {
     "name": "stdout",
     "output_type": "stream",
     "text": [
      "<class 'pandas.core.frame.DataFrame'>\n",
      "RangeIndex: 32868 entries, 0 to 32867\n",
      "Data columns (total 55 columns):\n",
      " #   Column                                   Non-Null Count  Dtype  \n",
      "---  ------                                   --------------  -----  \n",
      " 0   metadata_generatedAt                     32868 non-null  object \n",
      " 1   metadata_logFileName                     32868 non-null  object \n",
      " 2   metadata_validSignature                  32868 non-null  bool   \n",
      " 3   metadata_sanitized                       32868 non-null  bool   \n",
      " 4   metadata_payloadType                     32868 non-null  object \n",
      " 5   metadata_serialId_streamId               32868 non-null  object \n",
      " 6   metadata_serialId_bundleSize             32868 non-null  int64  \n",
      " 7   metadata_serialId_bundleId               32868 non-null  int64  \n",
      " 8   metadata_serialId_recordId               32868 non-null  int64  \n",
      " 9   metadata_serialId_serialNumber           32868 non-null  int64  \n",
      " 10  metadata_receivedAt                      32868 non-null  object \n",
      " 11  metadata_schemaVersion                   32868 non-null  int64  \n",
      " 12  dataType                                 32868 non-null  object \n",
      " 13  coreData_msgCnt                          32868 non-null  int64  \n",
      " 14  coreData_id                              32868 non-null  object \n",
      " 15  coreData_secMark                         32868 non-null  int64  \n",
      " 16  coreData_position_lat                    32868 non-null  float64\n",
      " 17  coreData_position_long                   32868 non-null  float64\n",
      " 18  coreData_elevation                       32868 non-null  float64\n",
      " 19  coreData_accelset_accelYaw               32868 non-null  float64\n",
      " 20  coreData_accuracy_semiMajor              32868 non-null  float64\n",
      " 21  coreData_accuracy_semiMinor              32868 non-null  float64\n",
      " 22  coreData_transmission                    32868 non-null  object \n",
      " 23  coreData_speed                           32868 non-null  float64\n",
      " 24  coreData_heading                         32868 non-null  float64\n",
      " 25  coreData_brakes_wheelBrakes_leftFront    32868 non-null  bool   \n",
      " 26  coreData_brakes_wheelBrakes_rightFront   32868 non-null  bool   \n",
      " 27  coreData_brakes_wheelBrakes_unavailable  32868 non-null  bool   \n",
      " 28  coreData_brakes_wheelBrakes_leftRear     32868 non-null  bool   \n",
      " 29  coreData_brakes_wheelBrakes_rightRear    32868 non-null  bool   \n",
      " 30  coreData_brakes_traction                 32868 non-null  object \n",
      " 31  coreData_brakes_abs                      32868 non-null  object \n",
      " 32  coreData_brakes_scs                      32868 non-null  object \n",
      " 33  coreData_brakes_brakeBoost               32868 non-null  object \n",
      " 34  coreData_brakes_auxBrakes                32868 non-null  object \n",
      " 35  coreData_size                            32868 non-null  object \n",
      " 36  part2_spve_tr_conn_pivotoffset           0 non-null      float64\n",
      " 37  part2_spve_tr_conn_pivotangle            0 non-null      float64\n",
      " 38  part2_spve_tr_conn_pivots                0 non-null      float64\n",
      " 39  part2_spve_tr_ssprights                  0 non-null      float64\n",
      " 40  part2_spve_tr_units_isDolly              0 non-null      float64\n",
      " 41  part2_spve_tr_units_width                0 non-null      float64\n",
      " 42  part2_spve_tr_units_length               0 non-null      float64\n",
      " 43  part2_spve_tr_units_height               0 non-null      float64\n",
      " 44  part2_suve_cd_hpmstype                   0 non-null      float64\n",
      " 45  part2_suve_cd_role                       32700 non-null  object \n",
      " 46  part2_suve_vd_height                     0 non-null      float64\n",
      " 47  part2_suve_vd_mass                       0 non-null      float64\n",
      " 48  part2_suve_vd_trailerweight              0 non-null      float64\n",
      " 49  part2_vse_events                         1 non-null      object \n",
      " 50  part2_vse_ph_crumbdata                   32868 non-null  object \n",
      " 51  part2_vse_pp_confidence                  32868 non-null  int64  \n",
      " 52  part2_vse_pp_radiusofcurve               32868 non-null  float64\n",
      " 53  part2_vse_lights                         0 non-null      float64\n",
      " 54  coreData_position                        32868 non-null  object \n",
      "dtypes: bool(7), float64(22), int64(8), object(18)\n",
      "memory usage: 12.3+ MB\n"
     ]
    },
    {
     "data": {
      "text/html": [
       "<div>\n",
       "<style scoped>\n",
       "    .dataframe tbody tr th:only-of-type {\n",
       "        vertical-align: middle;\n",
       "    }\n",
       "\n",
       "    .dataframe tbody tr th {\n",
       "        vertical-align: top;\n",
       "    }\n",
       "\n",
       "    .dataframe thead th {\n",
       "        text-align: right;\n",
       "    }\n",
       "</style>\n",
       "<table border=\"1\" class=\"dataframe\">\n",
       "  <thead>\n",
       "    <tr style=\"text-align: right;\">\n",
       "      <th></th>\n",
       "      <th>metadata_generatedAt</th>\n",
       "      <th>metadata_logFileName</th>\n",
       "      <th>metadata_validSignature</th>\n",
       "      <th>metadata_sanitized</th>\n",
       "      <th>metadata_payloadType</th>\n",
       "      <th>metadata_serialId_streamId</th>\n",
       "      <th>metadata_serialId_bundleSize</th>\n",
       "      <th>metadata_serialId_bundleId</th>\n",
       "      <th>metadata_serialId_recordId</th>\n",
       "      <th>metadata_serialId_serialNumber</th>\n",
       "      <th>...</th>\n",
       "      <th>part2_suve_cd_role</th>\n",
       "      <th>part2_suve_vd_height</th>\n",
       "      <th>part2_suve_vd_mass</th>\n",
       "      <th>part2_suve_vd_trailerweight</th>\n",
       "      <th>part2_vse_events</th>\n",
       "      <th>part2_vse_ph_crumbdata</th>\n",
       "      <th>part2_vse_pp_confidence</th>\n",
       "      <th>part2_vse_pp_radiusofcurve</th>\n",
       "      <th>part2_vse_lights</th>\n",
       "      <th>coreData_position</th>\n",
       "    </tr>\n",
       "  </thead>\n",
       "  <tbody>\n",
       "    <tr>\n",
       "      <th>0</th>\n",
       "      <td>11/15/2017 01:35:17 AM</td>\n",
       "      <td>bsmLogDuringEvent_1510709733_2620:31:40e0:876:...</td>\n",
       "      <td>True</td>\n",
       "      <td>True</td>\n",
       "      <td>us.dot.its.jpo.ode.model.OdeBsmPayload</td>\n",
       "      <td>9bfac6a4-ff35-4e40-bf4d-14a5e9b7c6c9</td>\n",
       "      <td>1</td>\n",
       "      <td>65</td>\n",
       "      <td>2</td>\n",
       "      <td>0</td>\n",
       "      <td>...</td>\n",
       "      <td>basicVehicle</td>\n",
       "      <td>NaN</td>\n",
       "      <td>NaN</td>\n",
       "      <td>NaN</td>\n",
       "      <td>NaN</td>\n",
       "      <td>[{'elevationOffset': 0.1, 'latOffset': -0.0003...</td>\n",
       "      <td>70</td>\n",
       "      <td>33.6</td>\n",
       "      <td>NaN</td>\n",
       "      <td>{type=Point, coordinates=List(-104.7273576, 41...</td>\n",
       "    </tr>\n",
       "    <tr>\n",
       "      <th>1</th>\n",
       "      <td>11/15/2017 01:35:22 AM</td>\n",
       "      <td>bsmLogDuringEvent_1510709825_2620:31:40e0:877:...</td>\n",
       "      <td>True</td>\n",
       "      <td>True</td>\n",
       "      <td>us.dot.its.jpo.ode.model.OdeBsmPayload</td>\n",
       "      <td>658a36b5-9028-43c4-8bd1-32f18d581539</td>\n",
       "      <td>1</td>\n",
       "      <td>1626</td>\n",
       "      <td>2</td>\n",
       "      <td>0</td>\n",
       "      <td>...</td>\n",
       "      <td>basicVehicle</td>\n",
       "      <td>NaN</td>\n",
       "      <td>NaN</td>\n",
       "      <td>NaN</td>\n",
       "      <td>NaN</td>\n",
       "      <td>[{'elevationOffset': 0.5, 'latOffset': -7.82e-...</td>\n",
       "      <td>90</td>\n",
       "      <td>71.9</td>\n",
       "      <td>NaN</td>\n",
       "      <td>{type=Point, coordinates=List(-104.7285596, 41...</td>\n",
       "    </tr>\n",
       "    <tr>\n",
       "      <th>2</th>\n",
       "      <td>11/15/2017 01:35:15 AM</td>\n",
       "      <td>bsmLogDuringEvent_1510709825_2620:31:40e0:877:...</td>\n",
       "      <td>True</td>\n",
       "      <td>True</td>\n",
       "      <td>us.dot.its.jpo.ode.model.OdeBsmPayload</td>\n",
       "      <td>30d1261b-c346-4749-977d-5ea0e31aaf99</td>\n",
       "      <td>1</td>\n",
       "      <td>1626</td>\n",
       "      <td>2</td>\n",
       "      <td>0</td>\n",
       "      <td>...</td>\n",
       "      <td>basicVehicle</td>\n",
       "      <td>NaN</td>\n",
       "      <td>NaN</td>\n",
       "      <td>NaN</td>\n",
       "      <td>NaN</td>\n",
       "      <td>[{'elevationOffset': 0.3, 'latOffset': -0.0003...</td>\n",
       "      <td>80</td>\n",
       "      <td>36.0</td>\n",
       "      <td>NaN</td>\n",
       "      <td>{type=Point, coordinates=List(-104.725978, 41....</td>\n",
       "    </tr>\n",
       "    <tr>\n",
       "      <th>3</th>\n",
       "      <td>11/15/2017 01:35:22 AM</td>\n",
       "      <td>bsmLogDuringEvent_1510709825_2620:31:40e0:877:...</td>\n",
       "      <td>True</td>\n",
       "      <td>True</td>\n",
       "      <td>us.dot.its.jpo.ode.model.OdeBsmPayload</td>\n",
       "      <td>d469a354-6bce-4909-9f88-f3129927efa8</td>\n",
       "      <td>1</td>\n",
       "      <td>1626</td>\n",
       "      <td>2</td>\n",
       "      <td>0</td>\n",
       "      <td>...</td>\n",
       "      <td>basicVehicle</td>\n",
       "      <td>NaN</td>\n",
       "      <td>NaN</td>\n",
       "      <td>NaN</td>\n",
       "      <td>NaN</td>\n",
       "      <td>[{'elevationOffset': 0.4, 'latOffset': -6.86e-...</td>\n",
       "      <td>90</td>\n",
       "      <td>90.0</td>\n",
       "      <td>NaN</td>\n",
       "      <td>{type=Point, coordinates=List(-104.7285244, 41...</td>\n",
       "    </tr>\n",
       "    <tr>\n",
       "      <th>4</th>\n",
       "      <td>11/15/2017 01:35:09 AM</td>\n",
       "      <td>bsmLogDuringEvent_1510709825_2620:31:40e0:877:...</td>\n",
       "      <td>True</td>\n",
       "      <td>True</td>\n",
       "      <td>us.dot.its.jpo.ode.model.OdeBsmPayload</td>\n",
       "      <td>9a3af8ca-b1f6-4324-8466-e9dc2e50477c</td>\n",
       "      <td>1</td>\n",
       "      <td>1626</td>\n",
       "      <td>2</td>\n",
       "      <td>0</td>\n",
       "      <td>...</td>\n",
       "      <td>basicVehicle</td>\n",
       "      <td>NaN</td>\n",
       "      <td>NaN</td>\n",
       "      <td>NaN</td>\n",
       "      <td>NaN</td>\n",
       "      <td>[{'elevationOffset': 0.5, 'latOffset': -0.0004...</td>\n",
       "      <td>90</td>\n",
       "      <td>-114.9</td>\n",
       "      <td>NaN</td>\n",
       "      <td>{type=Point, coordinates=List(-104.7241604, 41...</td>\n",
       "    </tr>\n",
       "  </tbody>\n",
       "</table>\n",
       "<p>5 rows × 55 columns</p>\n",
       "</div>"
      ],
      "text/plain": [
       "     metadata_generatedAt                               metadata_logFileName  \\\n",
       "0  11/15/2017 01:35:17 AM  bsmLogDuringEvent_1510709733_2620:31:40e0:876:...   \n",
       "1  11/15/2017 01:35:22 AM  bsmLogDuringEvent_1510709825_2620:31:40e0:877:...   \n",
       "2  11/15/2017 01:35:15 AM  bsmLogDuringEvent_1510709825_2620:31:40e0:877:...   \n",
       "3  11/15/2017 01:35:22 AM  bsmLogDuringEvent_1510709825_2620:31:40e0:877:...   \n",
       "4  11/15/2017 01:35:09 AM  bsmLogDuringEvent_1510709825_2620:31:40e0:877:...   \n",
       "\n",
       "   metadata_validSignature  metadata_sanitized  \\\n",
       "0                     True                True   \n",
       "1                     True                True   \n",
       "2                     True                True   \n",
       "3                     True                True   \n",
       "4                     True                True   \n",
       "\n",
       "                     metadata_payloadType  \\\n",
       "0  us.dot.its.jpo.ode.model.OdeBsmPayload   \n",
       "1  us.dot.its.jpo.ode.model.OdeBsmPayload   \n",
       "2  us.dot.its.jpo.ode.model.OdeBsmPayload   \n",
       "3  us.dot.its.jpo.ode.model.OdeBsmPayload   \n",
       "4  us.dot.its.jpo.ode.model.OdeBsmPayload   \n",
       "\n",
       "             metadata_serialId_streamId  metadata_serialId_bundleSize  \\\n",
       "0  9bfac6a4-ff35-4e40-bf4d-14a5e9b7c6c9                             1   \n",
       "1  658a36b5-9028-43c4-8bd1-32f18d581539                             1   \n",
       "2  30d1261b-c346-4749-977d-5ea0e31aaf99                             1   \n",
       "3  d469a354-6bce-4909-9f88-f3129927efa8                             1   \n",
       "4  9a3af8ca-b1f6-4324-8466-e9dc2e50477c                             1   \n",
       "\n",
       "   metadata_serialId_bundleId  metadata_serialId_recordId  \\\n",
       "0                          65                           2   \n",
       "1                        1626                           2   \n",
       "2                        1626                           2   \n",
       "3                        1626                           2   \n",
       "4                        1626                           2   \n",
       "\n",
       "   metadata_serialId_serialNumber  ... part2_suve_cd_role  \\\n",
       "0                               0  ...       basicVehicle   \n",
       "1                               0  ...       basicVehicle   \n",
       "2                               0  ...       basicVehicle   \n",
       "3                               0  ...       basicVehicle   \n",
       "4                               0  ...       basicVehicle   \n",
       "\n",
       "   part2_suve_vd_height part2_suve_vd_mass  part2_suve_vd_trailerweight  \\\n",
       "0                   NaN                NaN                          NaN   \n",
       "1                   NaN                NaN                          NaN   \n",
       "2                   NaN                NaN                          NaN   \n",
       "3                   NaN                NaN                          NaN   \n",
       "4                   NaN                NaN                          NaN   \n",
       "\n",
       "  part2_vse_events                             part2_vse_ph_crumbdata  \\\n",
       "0              NaN  [{'elevationOffset': 0.1, 'latOffset': -0.0003...   \n",
       "1              NaN  [{'elevationOffset': 0.5, 'latOffset': -7.82e-...   \n",
       "2              NaN  [{'elevationOffset': 0.3, 'latOffset': -0.0003...   \n",
       "3              NaN  [{'elevationOffset': 0.4, 'latOffset': -6.86e-...   \n",
       "4              NaN  [{'elevationOffset': 0.5, 'latOffset': -0.0004...   \n",
       "\n",
       "   part2_vse_pp_confidence  part2_vse_pp_radiusofcurve  part2_vse_lights  \\\n",
       "0                       70                        33.6               NaN   \n",
       "1                       90                        71.9               NaN   \n",
       "2                       80                        36.0               NaN   \n",
       "3                       90                        90.0               NaN   \n",
       "4                       90                      -114.9               NaN   \n",
       "\n",
       "                                   coreData_position  \n",
       "0  {type=Point, coordinates=List(-104.7273576, 41...  \n",
       "1  {type=Point, coordinates=List(-104.7285596, 41...  \n",
       "2  {type=Point, coordinates=List(-104.725978, 41....  \n",
       "3  {type=Point, coordinates=List(-104.7285244, 41...  \n",
       "4  {type=Point, coordinates=List(-104.7241604, 41...  \n",
       "\n",
       "[5 rows x 55 columns]"
      ]
     },
     "execution_count": 47,
     "metadata": {},
     "output_type": "execute_result"
    }
   ],
   "source": [
    "# this data comes from the US DoT data website\n",
    "# it is from a trial of connected vehicles travelling between Laramie and Cheyenne, WY\n",
    "# https://data.transportation.gov/Automobiles/Wyoming-CV-Pilot-Basic-Safety-Message-One-Day-Samp/9k4m-a3jc\n",
    "dataSrc = pd.read_csv(\"data/Wyoming_CV_Pilot_Basic_Safety_Message_One_Day_Sample.csv\", low_memory=False)\n",
    "dataSrc.info()\n",
    "dataSrc.head()"
   ]
  },
  {
   "cell_type": "code",
   "execution_count": 48,
   "metadata": {},
   "outputs": [
    {
     "data": {
      "text/plain": [
       "['coreData_msgCnt',\n",
       " 'coreData_id',\n",
       " 'coreData_secMark',\n",
       " 'coreData_position_lat',\n",
       " 'coreData_position_long',\n",
       " 'coreData_elevation',\n",
       " 'coreData_accelset_accelYaw',\n",
       " 'coreData_accuracy_semiMajor',\n",
       " 'coreData_accuracy_semiMinor',\n",
       " 'coreData_transmission',\n",
       " 'coreData_speed',\n",
       " 'coreData_heading',\n",
       " 'coreData_brakes_wheelBrakes_leftFront',\n",
       " 'coreData_brakes_wheelBrakes_rightFront',\n",
       " 'coreData_brakes_wheelBrakes_unavailable',\n",
       " 'coreData_brakes_wheelBrakes_leftRear',\n",
       " 'coreData_brakes_wheelBrakes_rightRear',\n",
       " 'coreData_brakes_traction',\n",
       " 'coreData_brakes_abs',\n",
       " 'coreData_brakes_scs',\n",
       " 'coreData_brakes_brakeBoost',\n",
       " 'coreData_brakes_auxBrakes',\n",
       " 'coreData_size',\n",
       " 'coreData_position']"
      ]
     },
     "execution_count": 48,
     "metadata": {},
     "output_type": "execute_result"
    }
   ],
   "source": [
    "# looking for the \"coreData\" columns instead of the \"metaData\" columns \n",
    "allColumns = list(filter(lambda colName: colName.startswith('coreData'), dataSrc.columns))\n",
    "allColumns"
   ]
  },
  {
   "cell_type": "code",
   "execution_count": 49,
   "metadata": {},
   "outputs": [
    {
     "data": {
      "text/html": [
       "<div>\n",
       "<style scoped>\n",
       "    .dataframe tbody tr th:only-of-type {\n",
       "        vertical-align: middle;\n",
       "    }\n",
       "\n",
       "    .dataframe tbody tr th {\n",
       "        vertical-align: top;\n",
       "    }\n",
       "\n",
       "    .dataframe thead th {\n",
       "        text-align: right;\n",
       "    }\n",
       "</style>\n",
       "<table border=\"1\" class=\"dataframe\">\n",
       "  <thead>\n",
       "    <tr style=\"text-align: right;\">\n",
       "      <th></th>\n",
       "      <th>coreData_msgCnt</th>\n",
       "      <th>coreData_id</th>\n",
       "      <th>coreData_secMark</th>\n",
       "      <th>coreData_position_lat</th>\n",
       "      <th>coreData_position_long</th>\n",
       "      <th>coreData_elevation</th>\n",
       "      <th>coreData_accelset_accelYaw</th>\n",
       "      <th>coreData_accuracy_semiMajor</th>\n",
       "      <th>coreData_accuracy_semiMinor</th>\n",
       "      <th>coreData_transmission</th>\n",
       "      <th>...</th>\n",
       "      <th>coreData_brakes_wheelBrakes_unavailable</th>\n",
       "      <th>coreData_brakes_wheelBrakes_leftRear</th>\n",
       "      <th>coreData_brakes_wheelBrakes_rightRear</th>\n",
       "      <th>coreData_brakes_traction</th>\n",
       "      <th>coreData_brakes_abs</th>\n",
       "      <th>coreData_brakes_scs</th>\n",
       "      <th>coreData_brakes_brakeBoost</th>\n",
       "      <th>coreData_brakes_auxBrakes</th>\n",
       "      <th>coreData_size</th>\n",
       "      <th>coreData_position</th>\n",
       "    </tr>\n",
       "  </thead>\n",
       "  <tbody>\n",
       "    <tr>\n",
       "      <th>0</th>\n",
       "      <td>96</td>\n",
       "      <td>58BA0000</td>\n",
       "      <td>17100</td>\n",
       "      <td>41.126867</td>\n",
       "      <td>-104.727358</td>\n",
       "      <td>1791.5</td>\n",
       "      <td>0.00</td>\n",
       "      <td>2.1</td>\n",
       "      <td>2.80</td>\n",
       "      <td>NEUTRAL</td>\n",
       "      <td>...</td>\n",
       "      <td>True</td>\n",
       "      <td>False</td>\n",
       "      <td>False</td>\n",
       "      <td>unavailable</td>\n",
       "      <td>unavailable</td>\n",
       "      <td>unavailable</td>\n",
       "      <td>unavailable</td>\n",
       "      <td>unavailable</td>\n",
       "      <td>{'width': 200, 'length': 570}</td>\n",
       "      <td>{type=Point, coordinates=List(-104.7273576, 41...</td>\n",
       "    </tr>\n",
       "    <tr>\n",
       "      <th>1</th>\n",
       "      <td>57</td>\n",
       "      <td>B93F5435</td>\n",
       "      <td>22600</td>\n",
       "      <td>41.126519</td>\n",
       "      <td>-104.728560</td>\n",
       "      <td>1795.5</td>\n",
       "      <td>0.00</td>\n",
       "      <td>2.3</td>\n",
       "      <td>3.65</td>\n",
       "      <td>NEUTRAL</td>\n",
       "      <td>...</td>\n",
       "      <td>True</td>\n",
       "      <td>False</td>\n",
       "      <td>False</td>\n",
       "      <td>unavailable</td>\n",
       "      <td>unavailable</td>\n",
       "      <td>unavailable</td>\n",
       "      <td>unavailable</td>\n",
       "      <td>unavailable</td>\n",
       "      <td>{'width': 190, 'length': 520}</td>\n",
       "      <td>{type=Point, coordinates=List(-104.7285596, 41...</td>\n",
       "    </tr>\n",
       "    <tr>\n",
       "      <th>2</th>\n",
       "      <td>111</td>\n",
       "      <td>B93F5435</td>\n",
       "      <td>15200</td>\n",
       "      <td>41.127306</td>\n",
       "      <td>-104.725978</td>\n",
       "      <td>1792.2</td>\n",
       "      <td>0.67</td>\n",
       "      <td>2.3</td>\n",
       "      <td>3.65</td>\n",
       "      <td>NEUTRAL</td>\n",
       "      <td>...</td>\n",
       "      <td>True</td>\n",
       "      <td>False</td>\n",
       "      <td>False</td>\n",
       "      <td>unavailable</td>\n",
       "      <td>unavailable</td>\n",
       "      <td>unavailable</td>\n",
       "      <td>unavailable</td>\n",
       "      <td>unavailable</td>\n",
       "      <td>{'width': 190, 'length': 520}</td>\n",
       "      <td>{type=Point, coordinates=List(-104.725978, 41....</td>\n",
       "    </tr>\n",
       "    <tr>\n",
       "      <th>3</th>\n",
       "      <td>56</td>\n",
       "      <td>B93F5435</td>\n",
       "      <td>22500</td>\n",
       "      <td>41.126528</td>\n",
       "      <td>-104.728524</td>\n",
       "      <td>1795.4</td>\n",
       "      <td>0.00</td>\n",
       "      <td>2.3</td>\n",
       "      <td>3.65</td>\n",
       "      <td>NEUTRAL</td>\n",
       "      <td>...</td>\n",
       "      <td>True</td>\n",
       "      <td>False</td>\n",
       "      <td>False</td>\n",
       "      <td>unavailable</td>\n",
       "      <td>unavailable</td>\n",
       "      <td>unavailable</td>\n",
       "      <td>unavailable</td>\n",
       "      <td>unavailable</td>\n",
       "      <td>{'width': 190, 'length': 520}</td>\n",
       "      <td>{type=Point, coordinates=List(-104.7285244, 41...</td>\n",
       "    </tr>\n",
       "    <tr>\n",
       "      <th>4</th>\n",
       "      <td>57</td>\n",
       "      <td>B93F5435</td>\n",
       "      <td>9800</td>\n",
       "      <td>41.127949</td>\n",
       "      <td>-104.724160</td>\n",
       "      <td>1791.4</td>\n",
       "      <td>0.00</td>\n",
       "      <td>2.3</td>\n",
       "      <td>3.65</td>\n",
       "      <td>NEUTRAL</td>\n",
       "      <td>...</td>\n",
       "      <td>True</td>\n",
       "      <td>False</td>\n",
       "      <td>False</td>\n",
       "      <td>unavailable</td>\n",
       "      <td>unavailable</td>\n",
       "      <td>unavailable</td>\n",
       "      <td>unavailable</td>\n",
       "      <td>unavailable</td>\n",
       "      <td>{'width': 190, 'length': 520}</td>\n",
       "      <td>{type=Point, coordinates=List(-104.7241604, 41...</td>\n",
       "    </tr>\n",
       "    <tr>\n",
       "      <th>...</th>\n",
       "      <td>...</td>\n",
       "      <td>...</td>\n",
       "      <td>...</td>\n",
       "      <td>...</td>\n",
       "      <td>...</td>\n",
       "      <td>...</td>\n",
       "      <td>...</td>\n",
       "      <td>...</td>\n",
       "      <td>...</td>\n",
       "      <td>...</td>\n",
       "      <td>...</td>\n",
       "      <td>...</td>\n",
       "      <td>...</td>\n",
       "      <td>...</td>\n",
       "      <td>...</td>\n",
       "      <td>...</td>\n",
       "      <td>...</td>\n",
       "      <td>...</td>\n",
       "      <td>...</td>\n",
       "      <td>...</td>\n",
       "      <td>...</td>\n",
       "    </tr>\n",
       "    <tr>\n",
       "      <th>32863</th>\n",
       "      <td>79</td>\n",
       "      <td>0AE70000</td>\n",
       "      <td>4400</td>\n",
       "      <td>41.157918</td>\n",
       "      <td>-104.651846</td>\n",
       "      <td>1804.1</td>\n",
       "      <td>0.00</td>\n",
       "      <td>3.1</td>\n",
       "      <td>3.40</td>\n",
       "      <td>NEUTRAL</td>\n",
       "      <td>...</td>\n",
       "      <td>True</td>\n",
       "      <td>False</td>\n",
       "      <td>False</td>\n",
       "      <td>unavailable</td>\n",
       "      <td>unavailable</td>\n",
       "      <td>unavailable</td>\n",
       "      <td>unavailable</td>\n",
       "      <td>unavailable</td>\n",
       "      <td>{'width': 490, 'length': 1190}</td>\n",
       "      <td>{type=Point, coordinates=List(-104.651846, 41....</td>\n",
       "    </tr>\n",
       "    <tr>\n",
       "      <th>32864</th>\n",
       "      <td>101</td>\n",
       "      <td>0AE70000</td>\n",
       "      <td>32200</td>\n",
       "      <td>41.156389</td>\n",
       "      <td>-104.659532</td>\n",
       "      <td>1809.3</td>\n",
       "      <td>-0.40</td>\n",
       "      <td>3.1</td>\n",
       "      <td>3.40</td>\n",
       "      <td>NEUTRAL</td>\n",
       "      <td>...</td>\n",
       "      <td>True</td>\n",
       "      <td>False</td>\n",
       "      <td>False</td>\n",
       "      <td>unavailable</td>\n",
       "      <td>unavailable</td>\n",
       "      <td>unavailable</td>\n",
       "      <td>unavailable</td>\n",
       "      <td>unavailable</td>\n",
       "      <td>{'width': 490, 'length': 1190}</td>\n",
       "      <td>{type=Point, coordinates=List(-104.6595321, 41...</td>\n",
       "    </tr>\n",
       "    <tr>\n",
       "      <th>32865</th>\n",
       "      <td>7</td>\n",
       "      <td>0AE70000</td>\n",
       "      <td>35600</td>\n",
       "      <td>41.156152</td>\n",
       "      <td>-104.660456</td>\n",
       "      <td>1810.6</td>\n",
       "      <td>0.00</td>\n",
       "      <td>3.1</td>\n",
       "      <td>3.40</td>\n",
       "      <td>NEUTRAL</td>\n",
       "      <td>...</td>\n",
       "      <td>True</td>\n",
       "      <td>False</td>\n",
       "      <td>False</td>\n",
       "      <td>unavailable</td>\n",
       "      <td>unavailable</td>\n",
       "      <td>unavailable</td>\n",
       "      <td>unavailable</td>\n",
       "      <td>unavailable</td>\n",
       "      <td>{'width': 490, 'length': 1190}</td>\n",
       "      <td>{type=Point, coordinates=List(-104.6604561, 41...</td>\n",
       "    </tr>\n",
       "    <tr>\n",
       "      <th>32866</th>\n",
       "      <td>18</td>\n",
       "      <td>0AE70000</td>\n",
       "      <td>36700</td>\n",
       "      <td>41.156070</td>\n",
       "      <td>-104.660762</td>\n",
       "      <td>1810.9</td>\n",
       "      <td>0.00</td>\n",
       "      <td>3.1</td>\n",
       "      <td>3.40</td>\n",
       "      <td>NEUTRAL</td>\n",
       "      <td>...</td>\n",
       "      <td>True</td>\n",
       "      <td>False</td>\n",
       "      <td>False</td>\n",
       "      <td>unavailable</td>\n",
       "      <td>unavailable</td>\n",
       "      <td>unavailable</td>\n",
       "      <td>unavailable</td>\n",
       "      <td>unavailable</td>\n",
       "      <td>{'width': 490, 'length': 1190}</td>\n",
       "      <td>{type=Point, coordinates=List(-104.6607622, 41...</td>\n",
       "    </tr>\n",
       "    <tr>\n",
       "      <th>32867</th>\n",
       "      <td>2</td>\n",
       "      <td>0AE70000</td>\n",
       "      <td>22300</td>\n",
       "      <td>41.157014</td>\n",
       "      <td>-104.656820</td>\n",
       "      <td>1806.3</td>\n",
       "      <td>0.00</td>\n",
       "      <td>3.1</td>\n",
       "      <td>3.40</td>\n",
       "      <td>NEUTRAL</td>\n",
       "      <td>...</td>\n",
       "      <td>True</td>\n",
       "      <td>False</td>\n",
       "      <td>False</td>\n",
       "      <td>unavailable</td>\n",
       "      <td>unavailable</td>\n",
       "      <td>unavailable</td>\n",
       "      <td>unavailable</td>\n",
       "      <td>unavailable</td>\n",
       "      <td>{'width': 490, 'length': 1190}</td>\n",
       "      <td>{type=Point, coordinates=List(-104.6568202, 41...</td>\n",
       "    </tr>\n",
       "  </tbody>\n",
       "</table>\n",
       "<p>32868 rows × 24 columns</p>\n",
       "</div>"
      ],
      "text/plain": [
       "       coreData_msgCnt coreData_id  coreData_secMark  coreData_position_lat  \\\n",
       "0                   96    58BA0000             17100              41.126867   \n",
       "1                   57    B93F5435             22600              41.126519   \n",
       "2                  111    B93F5435             15200              41.127306   \n",
       "3                   56    B93F5435             22500              41.126528   \n",
       "4                   57    B93F5435              9800              41.127949   \n",
       "...                ...         ...               ...                    ...   \n",
       "32863               79    0AE70000              4400              41.157918   \n",
       "32864              101    0AE70000             32200              41.156389   \n",
       "32865                7    0AE70000             35600              41.156152   \n",
       "32866               18    0AE70000             36700              41.156070   \n",
       "32867                2    0AE70000             22300              41.157014   \n",
       "\n",
       "       coreData_position_long  coreData_elevation  coreData_accelset_accelYaw  \\\n",
       "0                 -104.727358              1791.5                        0.00   \n",
       "1                 -104.728560              1795.5                        0.00   \n",
       "2                 -104.725978              1792.2                        0.67   \n",
       "3                 -104.728524              1795.4                        0.00   \n",
       "4                 -104.724160              1791.4                        0.00   \n",
       "...                       ...                 ...                         ...   \n",
       "32863             -104.651846              1804.1                        0.00   \n",
       "32864             -104.659532              1809.3                       -0.40   \n",
       "32865             -104.660456              1810.6                        0.00   \n",
       "32866             -104.660762              1810.9                        0.00   \n",
       "32867             -104.656820              1806.3                        0.00   \n",
       "\n",
       "       coreData_accuracy_semiMajor  coreData_accuracy_semiMinor  \\\n",
       "0                              2.1                         2.80   \n",
       "1                              2.3                         3.65   \n",
       "2                              2.3                         3.65   \n",
       "3                              2.3                         3.65   \n",
       "4                              2.3                         3.65   \n",
       "...                            ...                          ...   \n",
       "32863                          3.1                         3.40   \n",
       "32864                          3.1                         3.40   \n",
       "32865                          3.1                         3.40   \n",
       "32866                          3.1                         3.40   \n",
       "32867                          3.1                         3.40   \n",
       "\n",
       "      coreData_transmission  ...  coreData_brakes_wheelBrakes_unavailable  \\\n",
       "0                   NEUTRAL  ...                                     True   \n",
       "1                   NEUTRAL  ...                                     True   \n",
       "2                   NEUTRAL  ...                                     True   \n",
       "3                   NEUTRAL  ...                                     True   \n",
       "4                   NEUTRAL  ...                                     True   \n",
       "...                     ...  ...                                      ...   \n",
       "32863               NEUTRAL  ...                                     True   \n",
       "32864               NEUTRAL  ...                                     True   \n",
       "32865               NEUTRAL  ...                                     True   \n",
       "32866               NEUTRAL  ...                                     True   \n",
       "32867               NEUTRAL  ...                                     True   \n",
       "\n",
       "       coreData_brakes_wheelBrakes_leftRear  \\\n",
       "0                                     False   \n",
       "1                                     False   \n",
       "2                                     False   \n",
       "3                                     False   \n",
       "4                                     False   \n",
       "...                                     ...   \n",
       "32863                                 False   \n",
       "32864                                 False   \n",
       "32865                                 False   \n",
       "32866                                 False   \n",
       "32867                                 False   \n",
       "\n",
       "       coreData_brakes_wheelBrakes_rightRear  coreData_brakes_traction  \\\n",
       "0                                      False               unavailable   \n",
       "1                                      False               unavailable   \n",
       "2                                      False               unavailable   \n",
       "3                                      False               unavailable   \n",
       "4                                      False               unavailable   \n",
       "...                                      ...                       ...   \n",
       "32863                                  False               unavailable   \n",
       "32864                                  False               unavailable   \n",
       "32865                                  False               unavailable   \n",
       "32866                                  False               unavailable   \n",
       "32867                                  False               unavailable   \n",
       "\n",
       "       coreData_brakes_abs  coreData_brakes_scs  coreData_brakes_brakeBoost  \\\n",
       "0              unavailable          unavailable                 unavailable   \n",
       "1              unavailable          unavailable                 unavailable   \n",
       "2              unavailable          unavailable                 unavailable   \n",
       "3              unavailable          unavailable                 unavailable   \n",
       "4              unavailable          unavailable                 unavailable   \n",
       "...                    ...                  ...                         ...   \n",
       "32863          unavailable          unavailable                 unavailable   \n",
       "32864          unavailable          unavailable                 unavailable   \n",
       "32865          unavailable          unavailable                 unavailable   \n",
       "32866          unavailable          unavailable                 unavailable   \n",
       "32867          unavailable          unavailable                 unavailable   \n",
       "\n",
       "      coreData_brakes_auxBrakes                   coreData_size  \\\n",
       "0                   unavailable   {'width': 200, 'length': 570}   \n",
       "1                   unavailable   {'width': 190, 'length': 520}   \n",
       "2                   unavailable   {'width': 190, 'length': 520}   \n",
       "3                   unavailable   {'width': 190, 'length': 520}   \n",
       "4                   unavailable   {'width': 190, 'length': 520}   \n",
       "...                         ...                             ...   \n",
       "32863               unavailable  {'width': 490, 'length': 1190}   \n",
       "32864               unavailable  {'width': 490, 'length': 1190}   \n",
       "32865               unavailable  {'width': 490, 'length': 1190}   \n",
       "32866               unavailable  {'width': 490, 'length': 1190}   \n",
       "32867               unavailable  {'width': 490, 'length': 1190}   \n",
       "\n",
       "                                       coreData_position  \n",
       "0      {type=Point, coordinates=List(-104.7273576, 41...  \n",
       "1      {type=Point, coordinates=List(-104.7285596, 41...  \n",
       "2      {type=Point, coordinates=List(-104.725978, 41....  \n",
       "3      {type=Point, coordinates=List(-104.7285244, 41...  \n",
       "4      {type=Point, coordinates=List(-104.7241604, 41...  \n",
       "...                                                  ...  \n",
       "32863  {type=Point, coordinates=List(-104.651846, 41....  \n",
       "32864  {type=Point, coordinates=List(-104.6595321, 41...  \n",
       "32865  {type=Point, coordinates=List(-104.6604561, 41...  \n",
       "32866  {type=Point, coordinates=List(-104.6607622, 41...  \n",
       "32867  {type=Point, coordinates=List(-104.6568202, 41...  \n",
       "\n",
       "[32868 rows x 24 columns]"
      ]
     },
     "execution_count": 49,
     "metadata": {},
     "output_type": "execute_result"
    }
   ],
   "source": [
    "dataSrc.loc[:,allColumns]"
   ]
  },
  {
   "cell_type": "code",
   "execution_count": 50,
   "metadata": {},
   "outputs": [
    {
     "data": {
      "text/plain": [
       "0        247.8375\n",
       "1        250.0625\n",
       "2        245.8625\n",
       "3        249.9625\n",
       "4        244.9125\n",
       "           ...   \n",
       "32863    259.6500\n",
       "32864    251.7250\n",
       "32865    249.9125\n",
       "32866    250.5875\n",
       "32867    254.0625\n",
       "Name: coreData_heading, Length: 32868, dtype: float64"
      ]
     },
     "execution_count": 50,
     "metadata": {},
     "output_type": "execute_result"
    }
   ],
   "source": [
    "dataSrc.loc[:,'coreData_heading']"
   ]
  },
  {
   "cell_type": "code",
   "execution_count": 51,
   "metadata": {},
   "outputs": [
    {
     "name": "stdout",
     "output_type": "stream",
     "text": [
      "coreData_brakes_wheelBrakes_leftFront\n",
      "[False]\n",
      "coreData_brakes_wheelBrakes_rightFront\n",
      "[False]\n",
      "coreData_brakes_wheelBrakes_unavailable\n",
      "[ True]\n",
      "coreData_brakes_wheelBrakes_leftRear\n",
      "[False]\n",
      "coreData_brakes_wheelBrakes_rightRear\n",
      "[False]\n"
     ]
    }
   ],
   "source": [
    "#dataSrc.loc[:,['coreData_brakes_wheelBrakes_leftFront','coreData_brakes_wheelBrakes_rightFront','coreData_brakes_wheelBrakes_unavailable','coreData_brakes_wheelBrakes_leftRear','coreData_brakes_wheelBrakes_rightRear']]\n",
    "col = ['coreData_brakes_wheelBrakes_leftFront','coreData_brakes_wheelBrakes_rightFront','coreData_brakes_wheelBrakes_unavailable','coreData_brakes_wheelBrakes_leftRear','coreData_brakes_wheelBrakes_rightRear']\n",
    "for i in col:\n",
    "    print(i)\n",
    "    print(dataSrc[i].unique())"
   ]
  },
  {
   "cell_type": "code",
   "execution_count": 52,
   "metadata": {},
   "outputs": [],
   "source": [
    "dataSrc['Heading_elevation'] = dataSrc['coreData_elevation'] * dataSrc['coreData_heading']"
   ]
  },
  {
   "cell_type": "code",
   "execution_count": 53,
   "metadata": {},
   "outputs": [],
   "source": [
    "dataSrc['Heading+elevation'] = dataSrc['coreData_elevation'] + dataSrc['coreData_heading']"
   ]
  },
  {
   "cell_type": "code",
   "execution_count": 54,
   "metadata": {},
   "outputs": [
    {
     "name": "stdout",
     "output_type": "stream",
     "text": [
      "['coreData_msgCnt', 'coreData_id', 'coreData_secMark', 'coreData_position_lat', 'coreData_position_long', 'coreData_elevation', 'coreData_accelset_accelYaw', 'coreData_accuracy_semiMajor', 'coreData_accuracy_semiMinor', 'coreData_transmission', 'coreData_speed', 'coreData_heading', 'coreData_brakes_wheelBrakes_leftFront', 'coreData_brakes_wheelBrakes_rightFront', 'coreData_brakes_wheelBrakes_unavailable', 'coreData_brakes_wheelBrakes_leftRear', 'coreData_brakes_wheelBrakes_rightRear', 'coreData_brakes_traction', 'coreData_brakes_abs', 'coreData_brakes_scs', 'coreData_brakes_brakeBoost', 'coreData_brakes_auxBrakes', 'coreData_size', 'coreData_position', 'Heading_elevation', 'Heading+elevation']\n"
     ]
    }
   ],
   "source": [
    "#print(allColumns)\n",
    "allColumns1 = allColumns\n",
    "allColumns1.append('Heading_elevation')\n",
    "allColumns1.append('Heading+elevation')\n",
    "print(allColumns1)"
   ]
  },
  {
   "cell_type": "code",
   "execution_count": 60,
   "metadata": {},
   "outputs": [
    {
     "data": {
      "image/png": "[encoded data removed]",
      "text/plain": [
       "<Figure size 1440x720 with 2 Axes>"
      ]
     },
     "metadata": {
      "needs_background": "light"
     },
     "output_type": "display_data"
    }
   ],
   "source": [
    "import seaborn as sn\n",
    "import matplotlib.pyplot as plt\n",
    "\n",
    "corrMatrix = dataSrc.loc[:,allColumns1].corr()\n",
    "plt.figure(figsize=(20,10))\n",
    "sn.heatmap(corrMatrix, annot=True)\n",
    "plt.show()"
   ]
  },
  {
   "cell_type": "code",
   "execution_count": 57,
   "metadata": {},
   "outputs": [
    {
     "name": "stdout",
     "output_type": "stream",
     "text": [
      "Collecting seaborn\n",
      "  Downloading seaborn-0.11.2-py3-none-any.whl (292 kB)\n",
      "\u001b[K     |████████████████████████████████| 292 kB 30.7 MB/s eta 0:00:01\n",
      "\u001b[?25hRequirement already satisfied: matplotlib>=2.2 in /opt/conda/lib/python3.7/site-packages (from seaborn) (3.3.2)\n",
      "Requirement already satisfied: scipy>=1.0 in /opt/conda/lib/python3.7/site-packages (from seaborn) (1.5.2)\n",
      "Requirement already satisfied: numpy>=1.15 in /opt/conda/lib/python3.7/site-packages (from seaborn) (1.19.2)\n",
      "Requirement already satisfied: pandas>=0.23 in /opt/conda/lib/python3.7/site-packages (from seaborn) (1.1.2)\n",
      "Requirement already satisfied: pillow>=6.2.0 in /opt/conda/lib/python3.7/site-packages (from matplotlib>=2.2->seaborn) (7.2.0)\n",
      "Requirement already satisfied: python-dateutil>=2.1 in /opt/conda/lib/python3.7/site-packages (from matplotlib>=2.2->seaborn) (2.8.1)\n",
      "Requirement already satisfied: pyparsing!=2.0.4,!=2.1.2,!=2.1.6,>=2.0.3 in /opt/conda/lib/python3.7/site-packages (from matplotlib>=2.2->seaborn) (2.4.7)\n",
      "Collecting certifi>=2020.06.20\n",
      "  Using cached certifi-2021.10.8-py2.py3-none-any.whl (149 kB)\n",
      "Requirement already satisfied: kiwisolver>=1.0.1 in /opt/conda/lib/python3.7/site-packages (from matplotlib>=2.2->seaborn) (1.2.0)\n",
      "Requirement already satisfied: cycler>=0.10 in /opt/conda/lib/python3.7/site-packages (from matplotlib>=2.2->seaborn) (0.10.0)\n",
      "Requirement already satisfied: pytz>=2017.2 in /opt/conda/lib/python3.7/site-packages (from pandas>=0.23->seaborn) (2020.1)\n",
      "Requirement already satisfied: six>=1.5 in /opt/conda/lib/python3.7/site-packages (from python-dateutil>=2.1->matplotlib>=2.2->seaborn) (1.14.0)\n",
      "\u001b[31mERROR: test-9112736 1.15.44 has requirement certifi==2019.11.28, but you'll have certifi 2021.10.8 which is incompatible.\u001b[0m\n",
      "Installing collected packages: seaborn, certifi\n",
      "  Attempting uninstall: certifi\n",
      "    Found existing installation: certifi 2019.11.28\n",
      "    Uninstalling certifi-2019.11.28:\n",
      "\u001b[31mERROR: Could not install packages due to an EnvironmentError: [Errno 13] Permission denied: 'metadata.json'\n",
      "Consider using the `--user` option or check the permissions.\n",
      "\u001b[0m\n"
     ]
    }
   ],
   "source": [
    "!pip install seaborn"
   ]
  },
  {
   "cell_type": "code",
   "execution_count": 12,
   "metadata": {},
   "outputs": [
    {
     "data": {
      "text/html": [
       "<div>\n",
       "<style scoped>\n",
       "    .dataframe tbody tr th:only-of-type {\n",
       "        vertical-align: middle;\n",
       "    }\n",
       "\n",
       "    .dataframe tbody tr th {\n",
       "        vertical-align: top;\n",
       "    }\n",
       "\n",
       "    .dataframe thead th {\n",
       "        text-align: right;\n",
       "    }\n",
       "</style>\n",
       "<table border=\"1\" class=\"dataframe\">\n",
       "  <thead>\n",
       "    <tr style=\"text-align: right;\">\n",
       "      <th></th>\n",
       "      <th>metadata_generatedAt</th>\n",
       "      <th>metadata_logFileName</th>\n",
       "      <th>metadata_validSignature</th>\n",
       "      <th>metadata_sanitized</th>\n",
       "      <th>metadata_payloadType</th>\n",
       "      <th>metadata_serialId_streamId</th>\n",
       "      <th>metadata_serialId_bundleSize</th>\n",
       "      <th>metadata_serialId_bundleId</th>\n",
       "      <th>metadata_serialId_recordId</th>\n",
       "      <th>metadata_serialId_serialNumber</th>\n",
       "      <th>...</th>\n",
       "      <th>part2_suve_vd_mass</th>\n",
       "      <th>part2_suve_vd_trailerweight</th>\n",
       "      <th>part2_vse_events</th>\n",
       "      <th>part2_vse_ph_crumbdata</th>\n",
       "      <th>part2_vse_pp_confidence</th>\n",
       "      <th>part2_vse_pp_radiusofcurve</th>\n",
       "      <th>part2_vse_lights</th>\n",
       "      <th>coreData_position</th>\n",
       "      <th>Heading_elevation</th>\n",
       "      <th>Heading+elevation</th>\n",
       "    </tr>\n",
       "  </thead>\n",
       "  <tbody>\n",
       "    <tr>\n",
       "      <th>0</th>\n",
       "      <td>11/15/2017 01:35:17 AM</td>\n",
       "      <td>bsmLogDuringEvent_1510709733_2620:31:40e0:876:...</td>\n",
       "      <td>True</td>\n",
       "      <td>True</td>\n",
       "      <td>us.dot.its.jpo.ode.model.OdeBsmPayload</td>\n",
       "      <td>9bfac6a4-ff35-4e40-bf4d-14a5e9b7c6c9</td>\n",
       "      <td>1</td>\n",
       "      <td>65</td>\n",
       "      <td>2</td>\n",
       "      <td>0</td>\n",
       "      <td>...</td>\n",
       "      <td>NaN</td>\n",
       "      <td>NaN</td>\n",
       "      <td>NaN</td>\n",
       "      <td>[{'elevationOffset': 0.1, 'latOffset': -0.0003...</td>\n",
       "      <td>70</td>\n",
       "      <td>33.6</td>\n",
       "      <td>NaN</td>\n",
       "      <td>{type=Point, coordinates=List(-104.7273576, 41...</td>\n",
       "      <td>444000.88125</td>\n",
       "      <td>2039.3375</td>\n",
       "    </tr>\n",
       "    <tr>\n",
       "      <th>1</th>\n",
       "      <td>11/15/2017 01:35:22 AM</td>\n",
       "      <td>bsmLogDuringEvent_1510709825_2620:31:40e0:877:...</td>\n",
       "      <td>True</td>\n",
       "      <td>True</td>\n",
       "      <td>us.dot.its.jpo.ode.model.OdeBsmPayload</td>\n",
       "      <td>658a36b5-9028-43c4-8bd1-32f18d581539</td>\n",
       "      <td>1</td>\n",
       "      <td>1626</td>\n",
       "      <td>2</td>\n",
       "      <td>0</td>\n",
       "      <td>...</td>\n",
       "      <td>NaN</td>\n",
       "      <td>NaN</td>\n",
       "      <td>NaN</td>\n",
       "      <td>[{'elevationOffset': 0.5, 'latOffset': -7.82e-...</td>\n",
       "      <td>90</td>\n",
       "      <td>71.9</td>\n",
       "      <td>NaN</td>\n",
       "      <td>{type=Point, coordinates=List(-104.7285596, 41...</td>\n",
       "      <td>448987.21875</td>\n",
       "      <td>2045.5625</td>\n",
       "    </tr>\n",
       "    <tr>\n",
       "      <th>2</th>\n",
       "      <td>11/15/2017 01:35:15 AM</td>\n",
       "      <td>bsmLogDuringEvent_1510709825_2620:31:40e0:877:...</td>\n",
       "      <td>True</td>\n",
       "      <td>True</td>\n",
       "      <td>us.dot.its.jpo.ode.model.OdeBsmPayload</td>\n",
       "      <td>30d1261b-c346-4749-977d-5ea0e31aaf99</td>\n",
       "      <td>1</td>\n",
       "      <td>1626</td>\n",
       "      <td>2</td>\n",
       "      <td>0</td>\n",
       "      <td>...</td>\n",
       "      <td>NaN</td>\n",
       "      <td>NaN</td>\n",
       "      <td>NaN</td>\n",
       "      <td>[{'elevationOffset': 0.3, 'latOffset': -0.0003...</td>\n",
       "      <td>80</td>\n",
       "      <td>36.0</td>\n",
       "      <td>NaN</td>\n",
       "      <td>{type=Point, coordinates=List(-104.725978, 41....</td>\n",
       "      <td>440634.77250</td>\n",
       "      <td>2038.0625</td>\n",
       "    </tr>\n",
       "    <tr>\n",
       "      <th>3</th>\n",
       "      <td>11/15/2017 01:35:22 AM</td>\n",
       "      <td>bsmLogDuringEvent_1510709825_2620:31:40e0:877:...</td>\n",
       "      <td>True</td>\n",
       "      <td>True</td>\n",
       "      <td>us.dot.its.jpo.ode.model.OdeBsmPayload</td>\n",
       "      <td>d469a354-6bce-4909-9f88-f3129927efa8</td>\n",
       "      <td>1</td>\n",
       "      <td>1626</td>\n",
       "      <td>2</td>\n",
       "      <td>0</td>\n",
       "      <td>...</td>\n",
       "      <td>NaN</td>\n",
       "      <td>NaN</td>\n",
       "      <td>NaN</td>\n",
       "      <td>[{'elevationOffset': 0.4, 'latOffset': -6.86e-...</td>\n",
       "      <td>90</td>\n",
       "      <td>90.0</td>\n",
       "      <td>NaN</td>\n",
       "      <td>{type=Point, coordinates=List(-104.7285244, 41...</td>\n",
       "      <td>448782.67250</td>\n",
       "      <td>2045.3625</td>\n",
       "    </tr>\n",
       "    <tr>\n",
       "      <th>4</th>\n",
       "      <td>11/15/2017 01:35:09 AM</td>\n",
       "      <td>bsmLogDuringEvent_1510709825_2620:31:40e0:877:...</td>\n",
       "      <td>True</td>\n",
       "      <td>True</td>\n",
       "      <td>us.dot.its.jpo.ode.model.OdeBsmPayload</td>\n",
       "      <td>9a3af8ca-b1f6-4324-8466-e9dc2e50477c</td>\n",
       "      <td>1</td>\n",
       "      <td>1626</td>\n",
       "      <td>2</td>\n",
       "      <td>0</td>\n",
       "      <td>...</td>\n",
       "      <td>NaN</td>\n",
       "      <td>NaN</td>\n",
       "      <td>NaN</td>\n",
       "      <td>[{'elevationOffset': 0.5, 'latOffset': -0.0004...</td>\n",
       "      <td>90</td>\n",
       "      <td>-114.9</td>\n",
       "      <td>NaN</td>\n",
       "      <td>{type=Point, coordinates=List(-104.7241604, 41...</td>\n",
       "      <td>438736.25250</td>\n",
       "      <td>2036.3125</td>\n",
       "    </tr>\n",
       "  </tbody>\n",
       "</table>\n",
       "<p>5 rows × 57 columns</p>\n",
       "</div>"
      ],
      "text/plain": [
       "     metadata_generatedAt                               metadata_logFileName  \\\n",
       "0  11/15/2017 01:35:17 AM  bsmLogDuringEvent_1510709733_2620:31:40e0:876:...   \n",
       "1  11/15/2017 01:35:22 AM  bsmLogDuringEvent_1510709825_2620:31:40e0:877:...   \n",
       "2  11/15/2017 01:35:15 AM  bsmLogDuringEvent_1510709825_2620:31:40e0:877:...   \n",
       "3  11/15/2017 01:35:22 AM  bsmLogDuringEvent_1510709825_2620:31:40e0:877:...   \n",
       "4  11/15/2017 01:35:09 AM  bsmLogDuringEvent_1510709825_2620:31:40e0:877:...   \n",
       "\n",
       "   metadata_validSignature  metadata_sanitized  \\\n",
       "0                     True                True   \n",
       "1                     True                True   \n",
       "2                     True                True   \n",
       "3                     True                True   \n",
       "4                     True                True   \n",
       "\n",
       "                     metadata_payloadType  \\\n",
       "0  us.dot.its.jpo.ode.model.OdeBsmPayload   \n",
       "1  us.dot.its.jpo.ode.model.OdeBsmPayload   \n",
       "2  us.dot.its.jpo.ode.model.OdeBsmPayload   \n",
       "3  us.dot.its.jpo.ode.model.OdeBsmPayload   \n",
       "4  us.dot.its.jpo.ode.model.OdeBsmPayload   \n",
       "\n",
       "             metadata_serialId_streamId  metadata_serialId_bundleSize  \\\n",
       "0  9bfac6a4-ff35-4e40-bf4d-14a5e9b7c6c9                             1   \n",
       "1  658a36b5-9028-43c4-8bd1-32f18d581539                             1   \n",
       "2  30d1261b-c346-4749-977d-5ea0e31aaf99                             1   \n",
       "3  d469a354-6bce-4909-9f88-f3129927efa8                             1   \n",
       "4  9a3af8ca-b1f6-4324-8466-e9dc2e50477c                             1   \n",
       "\n",
       "   metadata_serialId_bundleId  metadata_serialId_recordId  \\\n",
       "0                          65                           2   \n",
       "1                        1626                           2   \n",
       "2                        1626                           2   \n",
       "3                        1626                           2   \n",
       "4                        1626                           2   \n",
       "\n",
       "   metadata_serialId_serialNumber  ... part2_suve_vd_mass  \\\n",
       "0                               0  ...                NaN   \n",
       "1                               0  ...                NaN   \n",
       "2                               0  ...                NaN   \n",
       "3                               0  ...                NaN   \n",
       "4                               0  ...                NaN   \n",
       "\n",
       "   part2_suve_vd_trailerweight part2_vse_events  \\\n",
       "0                          NaN              NaN   \n",
       "1                          NaN              NaN   \n",
       "2                          NaN              NaN   \n",
       "3                          NaN              NaN   \n",
       "4                          NaN              NaN   \n",
       "\n",
       "                              part2_vse_ph_crumbdata part2_vse_pp_confidence  \\\n",
       "0  [{'elevationOffset': 0.1, 'latOffset': -0.0003...                      70   \n",
       "1  [{'elevationOffset': 0.5, 'latOffset': -7.82e-...                      90   \n",
       "2  [{'elevationOffset': 0.3, 'latOffset': -0.0003...                      80   \n",
       "3  [{'elevationOffset': 0.4, 'latOffset': -6.86e-...                      90   \n",
       "4  [{'elevationOffset': 0.5, 'latOffset': -0.0004...                      90   \n",
       "\n",
       "   part2_vse_pp_radiusofcurve  part2_vse_lights  \\\n",
       "0                        33.6               NaN   \n",
       "1                        71.9               NaN   \n",
       "2                        36.0               NaN   \n",
       "3                        90.0               NaN   \n",
       "4                      -114.9               NaN   \n",
       "\n",
       "                                   coreData_position  Heading_elevation  \\\n",
       "0  {type=Point, coordinates=List(-104.7273576, 41...       444000.88125   \n",
       "1  {type=Point, coordinates=List(-104.7285596, 41...       448987.21875   \n",
       "2  {type=Point, coordinates=List(-104.725978, 41....       440634.77250   \n",
       "3  {type=Point, coordinates=List(-104.7285244, 41...       448782.67250   \n",
       "4  {type=Point, coordinates=List(-104.7241604, 41...       438736.25250   \n",
       "\n",
       "   Heading+elevation  \n",
       "0          2039.3375  \n",
       "1          2045.5625  \n",
       "2          2038.0625  \n",
       "3          2045.3625  \n",
       "4          2036.3125  \n",
       "\n",
       "[5 rows x 57 columns]"
      ]
     },
     "execution_count": 12,
     "metadata": {},
     "output_type": "execute_result"
    }
   ],
   "source": [
    "dataSrc.head()"
   ]
  },
  {
   "cell_type": "code",
   "execution_count": 13,
   "metadata": {},
   "outputs": [
    {
     "ename": "SyntaxError",
     "evalue": "invalid syntax (<ipython-input-13-28a3916a0e8d>, line 13)",
     "output_type": "error",
     "traceback": [
      "\u001b[0;36m  File \u001b[0;32m\"<ipython-input-13-28a3916a0e8d>\"\u001b[0;36m, line \u001b[0;32m13\u001b[0m\n\u001b[0;31m    coreData_elevation*coreData_headin(direction)g???????????\u001b[0m\n\u001b[0m                                                 ^\u001b[0m\n\u001b[0;31mSyntaxError\u001b[0m\u001b[0;31m:\u001b[0m invalid syntax\n"
     ]
    }
   ],
   "source": [
    "coreData_secMark(-0.02)\n",
    "coreData_position_lat(0.02)\n",
    "coreData_accuracy_semiMajor(0.04)\n",
    "coreData_accuracy_semiMinor(-0.019)\n",
    "\n",
    "coreData_position_long(0.3)\n",
    "coreData_elevation(-0.43)\n",
    "coreData_heading(-0.22)\n",
    "\n",
    "coreData_elevation, coreData_position_long, coreData_heading\n",
    "\n",
    "coreData_elevation, coreData_heading, coreData_elevation+coreData_heading(-0.44)\n",
    "coreData_elevation*coreData_headin(direction)g???????????\n",
    "\n",
    "\n",
    "coreData_accuracy_semiMajor(0.04)\n",
    "coreData_secMark(time)(-0.02)\n",
    "coreData_position_lat(0.02)\n",
    "coreData_accuracy_semiMinor(-0.019)\n",
    "\n",
    "coreData_accuracy_semiMajor, coreData_secMark, coreData_position_lat, coreData_accuracy_semiMinor"
   ]
  },
  {
   "cell_type": "code",
   "execution_count": 14,
   "metadata": {},
   "outputs": [
    {
     "data": {
      "text/html": [
       "<div>\n",
       "<style scoped>\n",
       "    .dataframe tbody tr th:only-of-type {\n",
       "        vertical-align: middle;\n",
       "    }\n",
       "\n",
       "    .dataframe tbody tr th {\n",
       "        vertical-align: top;\n",
       "    }\n",
       "\n",
       "    .dataframe thead th {\n",
       "        text-align: right;\n",
       "    }\n",
       "</style>\n",
       "<table border=\"1\" class=\"dataframe\">\n",
       "  <thead>\n",
       "    <tr style=\"text-align: right;\">\n",
       "      <th></th>\n",
       "      <th>coreData_elevation</th>\n",
       "      <th>coreData_heading</th>\n",
       "      <th>Heading+elevation</th>\n",
       "    </tr>\n",
       "  </thead>\n",
       "  <tbody>\n",
       "    <tr>\n",
       "      <th>0</th>\n",
       "      <td>1791.5</td>\n",
       "      <td>247.8375</td>\n",
       "      <td>2039.3375</td>\n",
       "    </tr>\n",
       "    <tr>\n",
       "      <th>1</th>\n",
       "      <td>1795.5</td>\n",
       "      <td>250.0625</td>\n",
       "      <td>2045.5625</td>\n",
       "    </tr>\n",
       "    <tr>\n",
       "      <th>2</th>\n",
       "      <td>1792.2</td>\n",
       "      <td>245.8625</td>\n",
       "      <td>2038.0625</td>\n",
       "    </tr>\n",
       "    <tr>\n",
       "      <th>3</th>\n",
       "      <td>1795.4</td>\n",
       "      <td>249.9625</td>\n",
       "      <td>2045.3625</td>\n",
       "    </tr>\n",
       "    <tr>\n",
       "      <th>4</th>\n",
       "      <td>1791.4</td>\n",
       "      <td>244.9125</td>\n",
       "      <td>2036.3125</td>\n",
       "    </tr>\n",
       "    <tr>\n",
       "      <th>...</th>\n",
       "      <td>...</td>\n",
       "      <td>...</td>\n",
       "      <td>...</td>\n",
       "    </tr>\n",
       "    <tr>\n",
       "      <th>32863</th>\n",
       "      <td>1804.1</td>\n",
       "      <td>259.6500</td>\n",
       "      <td>2063.7500</td>\n",
       "    </tr>\n",
       "    <tr>\n",
       "      <th>32864</th>\n",
       "      <td>1809.3</td>\n",
       "      <td>251.7250</td>\n",
       "      <td>2061.0250</td>\n",
       "    </tr>\n",
       "    <tr>\n",
       "      <th>32865</th>\n",
       "      <td>1810.6</td>\n",
       "      <td>249.9125</td>\n",
       "      <td>2060.5125</td>\n",
       "    </tr>\n",
       "    <tr>\n",
       "      <th>32866</th>\n",
       "      <td>1810.9</td>\n",
       "      <td>250.5875</td>\n",
       "      <td>2061.4875</td>\n",
       "    </tr>\n",
       "    <tr>\n",
       "      <th>32867</th>\n",
       "      <td>1806.3</td>\n",
       "      <td>254.0625</td>\n",
       "      <td>2060.3625</td>\n",
       "    </tr>\n",
       "  </tbody>\n",
       "</table>\n",
       "<p>32868 rows × 3 columns</p>\n",
       "</div>"
      ],
      "text/plain": [
       "       coreData_elevation  coreData_heading  Heading+elevation\n",
       "0                  1791.5          247.8375          2039.3375\n",
       "1                  1795.5          250.0625          2045.5625\n",
       "2                  1792.2          245.8625          2038.0625\n",
       "3                  1795.4          249.9625          2045.3625\n",
       "4                  1791.4          244.9125          2036.3125\n",
       "...                   ...               ...                ...\n",
       "32863              1804.1          259.6500          2063.7500\n",
       "32864              1809.3          251.7250          2061.0250\n",
       "32865              1810.6          249.9125          2060.5125\n",
       "32866              1810.9          250.5875          2061.4875\n",
       "32867              1806.3          254.0625          2060.3625\n",
       "\n",
       "[32868 rows x 3 columns]"
      ]
     },
     "execution_count": 14,
     "metadata": {},
     "output_type": "execute_result"
    }
   ],
   "source": [
    "dataSrc.loc[:,['coreData_elevation', 'coreData_heading', 'Heading+elevation']]"
   ]
  },
  {
   "cell_type": "code",
   "execution_count": 15,
   "metadata": {
    "scrolled": true
   },
   "outputs": [
    {
     "data": {
      "text/html": [
       "<div>\n",
       "<style scoped>\n",
       "    .dataframe tbody tr th:only-of-type {\n",
       "        vertical-align: middle;\n",
       "    }\n",
       "\n",
       "    .dataframe tbody tr th {\n",
       "        vertical-align: top;\n",
       "    }\n",
       "\n",
       "    .dataframe thead th {\n",
       "        text-align: right;\n",
       "    }\n",
       "</style>\n",
       "<table border=\"1\" class=\"dataframe\">\n",
       "  <thead>\n",
       "    <tr style=\"text-align: right;\">\n",
       "      <th></th>\n",
       "      <th>coreData_position_lat</th>\n",
       "      <th>coreData_position_long</th>\n",
       "    </tr>\n",
       "  </thead>\n",
       "  <tbody>\n",
       "    <tr>\n",
       "      <th>0</th>\n",
       "      <td>41.126867</td>\n",
       "      <td>-104.727358</td>\n",
       "    </tr>\n",
       "    <tr>\n",
       "      <th>1</th>\n",
       "      <td>41.126519</td>\n",
       "      <td>-104.728560</td>\n",
       "    </tr>\n",
       "    <tr>\n",
       "      <th>2</th>\n",
       "      <td>41.127306</td>\n",
       "      <td>-104.725978</td>\n",
       "    </tr>\n",
       "    <tr>\n",
       "      <th>3</th>\n",
       "      <td>41.126528</td>\n",
       "      <td>-104.728524</td>\n",
       "    </tr>\n",
       "    <tr>\n",
       "      <th>4</th>\n",
       "      <td>41.127949</td>\n",
       "      <td>-104.724160</td>\n",
       "    </tr>\n",
       "    <tr>\n",
       "      <th>...</th>\n",
       "      <td>...</td>\n",
       "      <td>...</td>\n",
       "    </tr>\n",
       "    <tr>\n",
       "      <th>32863</th>\n",
       "      <td>41.157918</td>\n",
       "      <td>-104.651846</td>\n",
       "    </tr>\n",
       "    <tr>\n",
       "      <th>32864</th>\n",
       "      <td>41.156389</td>\n",
       "      <td>-104.659532</td>\n",
       "    </tr>\n",
       "    <tr>\n",
       "      <th>32865</th>\n",
       "      <td>41.156152</td>\n",
       "      <td>-104.660456</td>\n",
       "    </tr>\n",
       "    <tr>\n",
       "      <th>32866</th>\n",
       "      <td>41.156070</td>\n",
       "      <td>-104.660762</td>\n",
       "    </tr>\n",
       "    <tr>\n",
       "      <th>32867</th>\n",
       "      <td>41.157014</td>\n",
       "      <td>-104.656820</td>\n",
       "    </tr>\n",
       "  </tbody>\n",
       "</table>\n",
       "<p>32868 rows × 2 columns</p>\n",
       "</div>"
      ],
      "text/plain": [
       "       coreData_position_lat  coreData_position_long\n",
       "0                  41.126867             -104.727358\n",
       "1                  41.126519             -104.728560\n",
       "2                  41.127306             -104.725978\n",
       "3                  41.126528             -104.728524\n",
       "4                  41.127949             -104.724160\n",
       "...                      ...                     ...\n",
       "32863              41.157918             -104.651846\n",
       "32864              41.156389             -104.659532\n",
       "32865              41.156152             -104.660456\n",
       "32866              41.156070             -104.660762\n",
       "32867              41.157014             -104.656820\n",
       "\n",
       "[32868 rows x 2 columns]"
      ]
     },
     "execution_count": 15,
     "metadata": {},
     "output_type": "execute_result"
    }
   ],
   "source": [
    "dataSrc.loc[:,['coreData_position_lat','coreData_position_long']]"
   ]
  },
  {
   "cell_type": "code",
   "execution_count": 16,
   "metadata": {},
   "outputs": [
    {
     "data": {
      "text/plain": [
       "<matplotlib.collections.PathCollection at 0x7f0c343237d0>"
      ]
     },
     "execution_count": 16,
     "metadata": {},
     "output_type": "execute_result"
    },
    {
     "data": {
      "image/png": "[encoded data removed]",
      "text/plain": [
       "<Figure size 432x288 with 1 Axes>"
      ]
     },
     "metadata": {
      "needs_background": "light"
     },
     "output_type": "display_data"
    }
   ],
   "source": [
    "# this should resemble the roadway from Laramie, WY to Cheyenne, WY\n",
    "plt.scatter(dataSrc['coreData_position_lat'], dataSrc['coreData_position_long'])"
   ]
  },
  {
   "cell_type": "markdown",
   "metadata": {},
   "source": [
    "<img src=\"map-projection-of-data.png\" alt=\"Map projection of data\" style=\"width: 400px;\"/>\n",
    "\n",
    "Hmm, that roadway kind of looks similar, but, a little off. That's because we are treating latitude and longitude as euclidian coordinates, when they are actually coordinates projected onto a sphere.\n",
    "\n",
    "Can we see a relationship between latitude values and elevation?"
   ]
  },
  {
   "cell_type": "code",
   "execution_count": 17,
   "metadata": {
    "scrolled": false
   },
   "outputs": [
    {
     "data": {
      "text/plain": [
       "[<matplotlib.lines.Line2D at 0x7f0c810727d0>]"
      ]
     },
     "execution_count": 17,
     "metadata": {},
     "output_type": "execute_result"
    },
    {
     "data": {
      "image/png": "[encoded data removed]",
      "text/plain": [
       "<Figure size 432x288 with 1 Axes>"
      ]
     },
     "metadata": {
      "needs_background": "light"
     },
     "output_type": "display_data"
    }
   ],
   "source": [
    "coordinateSortedData = dataSrc.sort_values(by=['coreData_position_long', 'coreData_position_lat'])\n",
    "plt.plot(coordinateSortedData['coreData_position_lat'], coordinateSortedData['coreData_elevation'])"
   ]
  },
  {
   "cell_type": "markdown",
   "metadata": {},
   "source": [
    "One issue we note with this immediately: latitude is not a valid function of elevation, since some latitude values project multiple values in elevation. In other words, there is no bijection between all latitude points and elevation points. \n",
    "\n",
    "What about with respect to the longitudinal data points?"
   ]
  },
  {
   "cell_type": "code",
   "execution_count": 18,
   "metadata": {
    "scrolled": true
   },
   "outputs": [
    {
     "data": {
      "text/plain": [
       "[<matplotlib.lines.Line2D at 0x7f0c810646d0>]"
      ]
     },
     "execution_count": 18,
     "metadata": {},
     "output_type": "execute_result"
    },
    {
     "data": {
      "image/png": "[encoded data removed]",
      "text/plain": [
       "<Figure size 432x288 with 1 Axes>"
      ]
     },
     "metadata": {
      "needs_background": "light"
     },
     "output_type": "display_data"
    }
   ],
   "source": [
    "plt.plot(coordinateSortedData['coreData_position_long'], coordinateSortedData['coreData_elevation'])"
   ]
  },
  {
   "cell_type": "markdown",
   "metadata": {
    "collapsed": true
   },
   "source": [
    "Longitude appears to have a proper bijection to the domain of elevation points. We will consider this later when we build our linear model."
   ]
  },
  {
   "cell_type": "markdown",
   "metadata": {},
   "source": [
    "Wait, how many columns did our raw data have?"
   ]
  },
  {
   "cell_type": "code",
   "execution_count": 19,
   "metadata": {},
   "outputs": [
    {
     "name": "stdout",
     "output_type": "stream",
     "text": [
      "26 columns\n"
     ]
    }
   ],
   "source": [
    "print(str(len(allColumns)) + \" columns\")"
   ]
  },
  {
   "cell_type": "markdown",
   "metadata": {},
   "source": [
    "We don't need all 24. Let's just focus in on the columns that are related to position and movement. We can even rename them to something easier on the eye."
   ]
  },
  {
   "cell_type": "code",
   "execution_count": 20,
   "metadata": {},
   "outputs": [
    {
     "name": "stdout",
     "output_type": "stream",
     "text": [
      "<class 'pandas.core.frame.DataFrame'>\n",
      "RangeIndex: 32868 entries, 0 to 32867\n",
      "Data columns (total 6 columns):\n",
      " #   Column     Non-Null Count  Dtype  \n",
      "---  ------     --------------  -----  \n",
      " 0   lat        32868 non-null  float64\n",
      " 1   lon        32868 non-null  float64\n",
      " 2   time       32868 non-null  int64  \n",
      " 3   height     32868 non-null  float64\n",
      " 4   speed      32868 non-null  float64\n",
      " 5   direction  32868 non-null  float64\n",
      "dtypes: float64(5), int64(1)\n",
      "memory usage: 1.5 MB\n"
     ]
    }
   ],
   "source": [
    "dataSubset = dataSrc[['coreData_position_lat','coreData_position_long','coreData_secMark','coreData_elevation','coreData_speed', 'coreData_heading']]\n",
    "dataSubset = dataSubset.rename(columns={'coreData_position_lat':'lat','coreData_position_long':'lon','coreData_secMark':'time','coreData_elevation':'height','coreData_speed':'speed', 'coreData_heading': 'direction'})\n",
    "dataSubset.info()"
   ]
  },
  {
   "cell_type": "markdown",
   "metadata": {},
   "source": [
    "Two of the columns are using the metric system. Here are two transforms we can use to switch away from the metric system to the USCU system (aka, feet and miles)."
   ]
  },
  {
   "cell_type": "code",
   "execution_count": 21,
   "metadata": {},
   "outputs": [],
   "source": [
    "def metersToFeet(x):\n",
    "    return x * 3.28084\n",
    "def metersPerSecToMPH(x):\n",
    "    return (metersToFeet(x) * 3600) / 5280"
   ]
  },
  {
   "cell_type": "markdown",
   "metadata": {},
   "source": [
    "Let's convert the data in `dataSubset` from metric to our American distance measures, and store that in a new copy of the `dataSubset`. We do this because we want to manipulate data for analysis but maintain a copy without edits for any future analysis."
   ]
  },
  {
   "cell_type": "code",
   "execution_count": 22,
   "metadata": {},
   "outputs": [
    {
     "data": {
      "text/html": [
       "<div>\n",
       "<style scoped>\n",
       "    .dataframe tbody tr th:only-of-type {\n",
       "        vertical-align: middle;\n",
       "    }\n",
       "\n",
       "    .dataframe tbody tr th {\n",
       "        vertical-align: top;\n",
       "    }\n",
       "\n",
       "    .dataframe thead th {\n",
       "        text-align: right;\n",
       "    }\n",
       "</style>\n",
       "<table border=\"1\" class=\"dataframe\">\n",
       "  <thead>\n",
       "    <tr style=\"text-align: right;\">\n",
       "      <th></th>\n",
       "      <th>lat</th>\n",
       "      <th>lon</th>\n",
       "      <th>time</th>\n",
       "      <th>height</th>\n",
       "      <th>speed</th>\n",
       "      <th>direction</th>\n",
       "    </tr>\n",
       "  </thead>\n",
       "  <tbody>\n",
       "    <tr>\n",
       "      <th>0</th>\n",
       "      <td>41.126867</td>\n",
       "      <td>-104.727358</td>\n",
       "      <td>17100</td>\n",
       "      <td>5877.624860</td>\n",
       "      <td>70.687189</td>\n",
       "      <td>247.8375</td>\n",
       "    </tr>\n",
       "    <tr>\n",
       "      <th>1</th>\n",
       "      <td>41.126519</td>\n",
       "      <td>-104.728560</td>\n",
       "      <td>22600</td>\n",
       "      <td>5890.748220</td>\n",
       "      <td>70.239802</td>\n",
       "      <td>250.0625</td>\n",
       "    </tr>\n",
       "    <tr>\n",
       "      <th>2</th>\n",
       "      <td>41.127306</td>\n",
       "      <td>-104.725978</td>\n",
       "      <td>15200</td>\n",
       "      <td>5879.921448</td>\n",
       "      <td>70.374018</td>\n",
       "      <td>245.8625</td>\n",
       "    </tr>\n",
       "    <tr>\n",
       "      <th>3</th>\n",
       "      <td>41.126528</td>\n",
       "      <td>-104.728524</td>\n",
       "      <td>22500</td>\n",
       "      <td>5890.420136</td>\n",
       "      <td>70.284541</td>\n",
       "      <td>249.9625</td>\n",
       "    </tr>\n",
       "    <tr>\n",
       "      <th>4</th>\n",
       "      <td>41.127949</td>\n",
       "      <td>-104.724160</td>\n",
       "      <td>9800</td>\n",
       "      <td>5877.296776</td>\n",
       "      <td>70.105586</td>\n",
       "      <td>244.9125</td>\n",
       "    </tr>\n",
       "    <tr>\n",
       "      <th>...</th>\n",
       "      <td>...</td>\n",
       "      <td>...</td>\n",
       "      <td>...</td>\n",
       "      <td>...</td>\n",
       "      <td>...</td>\n",
       "      <td>...</td>\n",
       "    </tr>\n",
       "    <tr>\n",
       "      <th>32863</th>\n",
       "      <td>41.157918</td>\n",
       "      <td>-104.651846</td>\n",
       "      <td>4400</td>\n",
       "      <td>5918.963444</td>\n",
       "      <td>53.104869</td>\n",
       "      <td>259.6500</td>\n",
       "    </tr>\n",
       "    <tr>\n",
       "      <th>32864</th>\n",
       "      <td>41.156389</td>\n",
       "      <td>-104.659532</td>\n",
       "      <td>32200</td>\n",
       "      <td>5936.023812</td>\n",
       "      <td>53.910166</td>\n",
       "      <td>251.7250</td>\n",
       "    </tr>\n",
       "    <tr>\n",
       "      <th>32865</th>\n",
       "      <td>41.156152</td>\n",
       "      <td>-104.660456</td>\n",
       "      <td>35600</td>\n",
       "      <td>5940.288904</td>\n",
       "      <td>53.999644</td>\n",
       "      <td>249.9125</td>\n",
       "    </tr>\n",
       "    <tr>\n",
       "      <th>32866</th>\n",
       "      <td>41.156070</td>\n",
       "      <td>-104.660762</td>\n",
       "      <td>36700</td>\n",
       "      <td>5941.273156</td>\n",
       "      <td>54.133860</td>\n",
       "      <td>250.5875</td>\n",
       "    </tr>\n",
       "    <tr>\n",
       "      <th>32867</th>\n",
       "      <td>41.157014</td>\n",
       "      <td>-104.656820</td>\n",
       "      <td>22300</td>\n",
       "      <td>5926.181292</td>\n",
       "      <td>53.954905</td>\n",
       "      <td>254.0625</td>\n",
       "    </tr>\n",
       "  </tbody>\n",
       "</table>\n",
       "<p>32868 rows × 6 columns</p>\n",
       "</div>"
      ],
      "text/plain": [
       "             lat         lon   time       height      speed  direction\n",
       "0      41.126867 -104.727358  17100  5877.624860  70.687189   247.8375\n",
       "1      41.126519 -104.728560  22600  5890.748220  70.239802   250.0625\n",
       "2      41.127306 -104.725978  15200  5879.921448  70.374018   245.8625\n",
       "3      41.126528 -104.728524  22500  5890.420136  70.284541   249.9625\n",
       "4      41.127949 -104.724160   9800  5877.296776  70.105586   244.9125\n",
       "...          ...         ...    ...          ...        ...        ...\n",
       "32863  41.157918 -104.651846   4400  5918.963444  53.104869   259.6500\n",
       "32864  41.156389 -104.659532  32200  5936.023812  53.910166   251.7250\n",
       "32865  41.156152 -104.660456  35600  5940.288904  53.999644   249.9125\n",
       "32866  41.156070 -104.660762  36700  5941.273156  54.133860   250.5875\n",
       "32867  41.157014 -104.656820  22300  5926.181292  53.954905   254.0625\n",
       "\n",
       "[32868 rows x 6 columns]"
      ]
     },
     "execution_count": 22,
     "metadata": {},
     "output_type": "execute_result"
    }
   ],
   "source": [
    "dataFt = dataSubset.copy()\n",
    "dataFt['height'] = metersToFeet(dataSubset['height'])\n",
    "dataFt['speed'] = metersPerSecToMPH(dataSubset['speed'])\n",
    "dataFt"
   ]
  },
  {
   "cell_type": "markdown",
   "metadata": {},
   "source": [
    "Now, what can we say about these columns? One way to find out is to call `describe()` on each of them."
   ]
  },
  {
   "cell_type": "code",
   "execution_count": 23,
   "metadata": {
    "scrolled": true
   },
   "outputs": [
    {
     "data": {
      "text/plain": [
       "count    32868.000000\n",
       "mean        41.135849\n",
       "std          0.020855\n",
       "min         41.095102\n",
       "25%         41.118991\n",
       "50%         41.127936\n",
       "75%         41.154254\n",
       "max         41.325833\n",
       "Name: lat, dtype: float64"
      ]
     },
     "execution_count": 23,
     "metadata": {},
     "output_type": "execute_result"
    }
   ],
   "source": [
    "dataFt['lat'].describe()"
   ]
  },
  {
   "cell_type": "code",
   "execution_count": 24,
   "metadata": {},
   "outputs": [
    {
     "data": {
      "text/plain": [
       "count    32868.000000\n",
       "mean      -104.779413\n",
       "std          0.170979\n",
       "min       -105.616132\n",
       "25%       -104.808981\n",
       "50%       -104.730790\n",
       "75%       -104.666441\n",
       "max       -104.644505\n",
       "Name: lon, dtype: float64"
      ]
     },
     "execution_count": 24,
     "metadata": {},
     "output_type": "execute_result"
    }
   ],
   "source": [
    "dataFt['lon'].describe()"
   ]
  },
  {
   "cell_type": "code",
   "execution_count": 25,
   "metadata": {
    "scrolled": true
   },
   "outputs": [
    {
     "data": {
      "text/plain": [
       "count    32868.000000\n",
       "mean      6143.179182\n",
       "std        502.818281\n",
       "min       5845.472628\n",
       "25%       5945.210164\n",
       "50%       5969.160296\n",
       "75%       6054.134052\n",
       "max       8620.407100\n",
       "Name: height, dtype: float64"
      ]
     },
     "execution_count": 25,
     "metadata": {},
     "output_type": "execute_result"
    }
   ],
   "source": [
    "dataFt['height'].describe()"
   ]
  },
  {
   "cell_type": "markdown",
   "metadata": {},
   "source": [
    "<br>"
   ]
  },
  {
   "cell_type": "markdown",
   "metadata": {},
   "source": [
    "<div style=\"font-size:20px;color:#F1F8FC;background-color:#0095EA;padding:10px;\"> 2. A Regression Proof-of-concept </div>\n",
    "\n",
    "Let's show ourselves that building a linear model does what we think it should do\n",
    "\n",
    "- Let's predict elevation based on position\n",
    "  - Let's make our first linear model _fit_ to the longitudinal data\n",
    "  - We will try different features and different linear regression models\n",
    "  - Recall from above, there was a fairly obvious relationship between longitude and elevation. We will let the models show us that this was a relevant detail."
   ]
  },
  {
   "cell_type": "markdown",
   "metadata": {},
   "source": [
    "Our first model makes the assumption that a linear model on an x/y coordinate pair can be used to infer height. Put another way, we will use `lat` and `lon` (our _features_) to predict `height` (our _label_), using a linear model of the form `c_1(lat) + c_2(lon)`, where we are attempting to learn the coefficients `c_1` and `c_2` that best fit our training data."
   ]
  },
  {
   "cell_type": "code",
   "execution_count": 26,
   "metadata": {},
   "outputs": [
    {
     "data": {
      "text/plain": [
       "SVR()"
      ]
     },
     "execution_count": 26,
     "metadata": {},
     "output_type": "execute_result"
    }
   ],
   "source": [
    "# this may take some time.\n",
    "latLonModel = svm.SVR()\n",
    "X_train, X_test, y_train, y_test = train_test_split(dataFt[['lat','lon']], dataFt['height'], test_size=0.2)\n",
    "latLonModel.fit(X_train, y_train)"
   ]
  },
  {
   "cell_type": "code",
   "execution_count": 27,
   "metadata": {},
   "outputs": [],
   "source": [
    "predictions = latLonModel.predict(X_test)"
   ]
  },
  {
   "cell_type": "code",
   "execution_count": 28,
   "metadata": {},
   "outputs": [
    {
     "data": {
      "text/plain": [
       "Text(0, 0.5, 'Predictions')"
      ]
     },
     "execution_count": 28,
     "metadata": {},
     "output_type": "execute_result"
    },
    {
     "data": {
      "image/png": "[encoded data removed]",
      "text/plain": [
       "<Figure size 432x288 with 1 Axes>"
      ]
     },
     "metadata": {
      "needs_background": "light"
     },
     "output_type": "display_data"
    }
   ],
   "source": [
    "plt.scatter(y_test, predictions)\n",
    "plt.xlabel(\"True Values\")\n",
    "plt.ylabel(\"Predictions\")"
   ]
  },
  {
   "cell_type": "code",
   "execution_count": 29,
   "metadata": {
    "scrolled": true
   },
   "outputs": [
    {
     "name": "stdout",
     "output_type": "stream",
     "text": [
      "Model Accuracy: -11.74%\n"
     ]
    }
   ],
   "source": [
    "# how does it score?\n",
    "print(\"Model Accuracy: {0:.2f}%\".format(latLonModel.score(X_test, y_test) * 100))"
   ]
  },
  {
   "cell_type": "markdown",
   "metadata": {},
   "source": [
    "This is not _bad_. It's also not _good_. Let's see if we can do better.\n",
    "\n",
    "One common technique for fitting a regression model is to create **polynomial features**. These aim to create additional features that represent the polynomial terms of the inputs. For example, for some input column `x`, we can create additional columns to represent `x^2` and `x^3`.\n",
    "\n",
    "In our case, let's see how creating an additional feature, `latlon` (computed as `latitude * longitude`) will help with our score."
   ]
  },
  {
   "cell_type": "code",
   "execution_count": 30,
   "metadata": {
    "scrolled": false
   },
   "outputs": [
    {
     "data": {
      "text/html": [
       "<div>\n",
       "<style scoped>\n",
       "    .dataframe tbody tr th:only-of-type {\n",
       "        vertical-align: middle;\n",
       "    }\n",
       "\n",
       "    .dataframe tbody tr th {\n",
       "        vertical-align: top;\n",
       "    }\n",
       "\n",
       "    .dataframe thead th {\n",
       "        text-align: right;\n",
       "    }\n",
       "</style>\n",
       "<table border=\"1\" class=\"dataframe\">\n",
       "  <thead>\n",
       "    <tr style=\"text-align: right;\">\n",
       "      <th></th>\n",
       "      <th>lat</th>\n",
       "      <th>lon</th>\n",
       "      <th>latlon</th>\n",
       "    </tr>\n",
       "  </thead>\n",
       "  <tbody>\n",
       "    <tr>\n",
       "      <th>0</th>\n",
       "      <td>41.126867</td>\n",
       "      <td>-104.727358</td>\n",
       "      <td>-4307.108086</td>\n",
       "    </tr>\n",
       "    <tr>\n",
       "      <th>1</th>\n",
       "      <td>41.126519</td>\n",
       "      <td>-104.728560</td>\n",
       "      <td>-4307.121086</td>\n",
       "    </tr>\n",
       "    <tr>\n",
       "      <th>2</th>\n",
       "      <td>41.127306</td>\n",
       "      <td>-104.725978</td>\n",
       "      <td>-4307.097343</td>\n",
       "    </tr>\n",
       "    <tr>\n",
       "      <th>3</th>\n",
       "      <td>41.126528</td>\n",
       "      <td>-104.728524</td>\n",
       "      <td>-4307.120643</td>\n",
       "    </tr>\n",
       "    <tr>\n",
       "      <th>4</th>\n",
       "      <td>41.127949</td>\n",
       "      <td>-104.724160</td>\n",
       "      <td>-4307.089949</td>\n",
       "    </tr>\n",
       "    <tr>\n",
       "      <th>...</th>\n",
       "      <td>...</td>\n",
       "      <td>...</td>\n",
       "      <td>...</td>\n",
       "    </tr>\n",
       "    <tr>\n",
       "      <th>32863</th>\n",
       "      <td>41.157918</td>\n",
       "      <td>-104.651846</td>\n",
       "      <td>-4307.252138</td>\n",
       "    </tr>\n",
       "    <tr>\n",
       "      <th>32864</th>\n",
       "      <td>41.156389</td>\n",
       "      <td>-104.659532</td>\n",
       "      <td>-4307.408437</td>\n",
       "    </tr>\n",
       "    <tr>\n",
       "      <th>32865</th>\n",
       "      <td>41.156152</td>\n",
       "      <td>-104.660456</td>\n",
       "      <td>-4307.421598</td>\n",
       "    </tr>\n",
       "    <tr>\n",
       "      <th>32866</th>\n",
       "      <td>41.156070</td>\n",
       "      <td>-104.660762</td>\n",
       "      <td>-4307.425708</td>\n",
       "    </tr>\n",
       "    <tr>\n",
       "      <th>32867</th>\n",
       "      <td>41.157014</td>\n",
       "      <td>-104.656820</td>\n",
       "      <td>-4307.362246</td>\n",
       "    </tr>\n",
       "  </tbody>\n",
       "</table>\n",
       "<p>32868 rows × 3 columns</p>\n",
       "</div>"
      ],
      "text/plain": [
       "             lat         lon       latlon\n",
       "0      41.126867 -104.727358 -4307.108086\n",
       "1      41.126519 -104.728560 -4307.121086\n",
       "2      41.127306 -104.725978 -4307.097343\n",
       "3      41.126528 -104.728524 -4307.120643\n",
       "4      41.127949 -104.724160 -4307.089949\n",
       "...          ...         ...          ...\n",
       "32863  41.157918 -104.651846 -4307.252138\n",
       "32864  41.156389 -104.659532 -4307.408437\n",
       "32865  41.156152 -104.660456 -4307.421598\n",
       "32866  41.156070 -104.660762 -4307.425708\n",
       "32867  41.157014 -104.656820 -4307.362246\n",
       "\n",
       "[32868 rows x 3 columns]"
      ]
     },
     "execution_count": 30,
     "metadata": {},
     "output_type": "execute_result"
    }
   ],
   "source": [
    "polyFeatures = dataFt[['lat','lon']].copy()\n",
    "\n",
    "# this is the line that adds a new column to polyFeatures that is the product of the columns lat and lon\n",
    "polyFeatures['latlon'] = polyFeatures['lat'] * polyFeatures['lon']\n",
    "polyFeatures"
   ]
  },
  {
   "cell_type": "markdown",
   "metadata": {},
   "source": [
    "Ok! Let's try with our new feature!"
   ]
  },
  {
   "cell_type": "code",
   "execution_count": 31,
   "metadata": {
    "scrolled": true
   },
   "outputs": [
    {
     "data": {
      "text/plain": [
       "SVR()"
      ]
     },
     "execution_count": 31,
     "metadata": {},
     "output_type": "execute_result"
    }
   ],
   "source": [
    "polyLonModel = svm.SVR()\n",
    "X_train, X_test, y_train, y_test = train_test_split(polyFeatures[['lat','lon','latlon']], dataFt['height'], test_size=0.2)\n",
    "polyLonModel.fit(X_train, y_train)"
   ]
  },
  {
   "cell_type": "code",
   "execution_count": 32,
   "metadata": {
    "scrolled": true
   },
   "outputs": [],
   "source": [
    "predictions = polyLonModel.predict(X_test)"
   ]
  },
  {
   "cell_type": "code",
   "execution_count": null,
   "metadata": {},
   "outputs": [],
   "source": []
  },
  {
   "cell_type": "code",
   "execution_count": 33,
   "metadata": {},
   "outputs": [
    {
     "data": {
      "text/plain": [
       "Text(0, 0.5, 'Predictions')"
      ]
     },
     "execution_count": 33,
     "metadata": {},
     "output_type": "execute_result"
    },
    {
     "data": {
      "image/png": "[encoded data removed]",
      "text/plain": [
       "<Figure size 432x288 with 1 Axes>"
      ]
     },
     "metadata": {
      "needs_background": "light"
     },
     "output_type": "display_data"
    }
   ],
   "source": [
    "plt.scatter(y_test, predictions)\n",
    "plt.xlabel(\"True Values\")\n",
    "plt.ylabel(\"Predictions\")"
   ]
  },
  {
   "cell_type": "code",
   "execution_count": 34,
   "metadata": {},
   "outputs": [
    {
     "name": "stdout",
     "output_type": "stream",
     "text": [
      "2518     6072.506756\n",
      "3442     6056.430640\n",
      "15878    6047.572372\n",
      "28802    5968.504128\n",
      "13676    5919.291528\n",
      "            ...     \n",
      "25840    5932.414888\n",
      "7859     5932.742972\n",
      "30010    5926.837460\n",
      "18066    7111.548784\n",
      "25458    5939.304652\n",
      "Name: height, Length: 6574, dtype: float64\n",
      "[5968.96858598 5968.96721055 5968.96312342 ... 5968.93122428 5969.07533229\n",
      " 5968.93189874]\n"
     ]
    }
   ],
   "source": [
    "print(y_test)\n",
    "print(predictions)"
   ]
  },
  {
   "cell_type": "code",
   "execution_count": 35,
   "metadata": {},
   "outputs": [
    {
     "name": "stdout",
     "output_type": "stream",
     "text": [
      "Model Accuracy: -12.60%\n"
     ]
    }
   ],
   "source": [
    "# how does it score?\n",
    "print(\"Model Accuracy: {0:.2f}%\".format(polyLonModel.score(X_test, y_test) * 100))"
   ]
  },
  {
   "cell_type": "markdown",
   "metadata": {
    "collapsed": true
   },
   "source": [
    "Much better! We doubled our accuracy without changing our model or data, but by coming up with more features from our data. Learning from the correct features is essential to good modeling."
   ]
  },
  {
   "cell_type": "markdown",
   "metadata": {},
   "source": [
    "<hr style=\"border-top: 5px solid purple; margin-top: 1px; margin-bottom: 1px\"></hr>"
   ]
  },
  {
   "cell_type": "markdown",
   "metadata": {},
   "source": [
    "<div style=\"font-size:30px;color:#3665af;background-color:#e1dfb1;padding:10px;\">Exercise </div>"
   ]
  },
  {
   "cell_type": "markdown",
   "metadata": {},
   "source": [
    "<div style=\"font-size:20px;color:#F1F8FC;background-color:#0095EA;padding:10px;\"> 3. Let's Predict Speed</div>\n",
    "\n",
    "Predicting speed will be a bit more challenging, but, we have some intuition. Perhaps there are properties related to the highway that might produce similar speed ratings, such as a steep climb on an eastbound section, or passing through a section where there was construction all day long. Think about what vehicle travel is like while you work on your model. \n",
    "\n",
    "#### Do not get lost attempting perfection! Grading will be based mostly on your answers to the questions below. Make a reasonable effort at refining your model, put a few hours into it, and explain your process for a passing grade.\n",
    "\n",
    "##### In order to answer these questions, do the following:\n",
    "\n",
    "- Use our data points to fit some of the data to a linear model\n",
    "  - _important_: you will need to set `speed` to be your training label\n",
    "- Experiment with different polynomial features\n",
    "  - see polyLonModel, above, for an example\n",
    "- Try changing the parameters of SVR, such as kernel, C, gamma, and degree, when appropriate\n",
    "  - see the [SVR documentation](http://scikit-learn.org/stable/modules/generated/sklearn.svm.SVR.html#sklearn.svm.SVR) for a detailed description of these options.\n",
    "- Try _at least one more_ of the following linear regression models that Scikit-Learn offers\n",
    "  - [Lasso](http://scikit-learn.org/stable/modules/linear_model.html#lasso)\n",
    "  - [ElasticNet](http://scikit-learn.org/stable/modules/linear_model.html#elastic-net)\n",
    "  - [Ridge](http://scikit-learn.org/stable/modules/linear_model.html#ridge-regression)\n",
    "- [optional] play with integrating other learners and tools from the Scikit-Learn toolkit, such as PCA\n"
   ]
  },
  {
   "cell_type": "markdown",
   "metadata": {},
   "source": [
    "<div style=\"font-size:20px;background-color:#0B6713;color:#F1E6E7;padding:10px;\">\n",
    "    TO-DO:\n",
    "</div>"
   ]
  },
  {
   "cell_type": "code",
   "execution_count": 38,
   "metadata": {},
   "outputs": [
    {
     "ename": "SyntaxError",
     "evalue": "invalid syntax (<ipython-input-38-853946e539cc>, line 2)",
     "output_type": "error",
     "traceback": [
      "\u001b[0;36m  File \u001b[0;32m\"<ipython-input-38-853946e539cc>\"\u001b[0;36m, line \u001b[0;32m2\u001b[0m\n\u001b[0;31m    coreData_elevation*coreData_headin(direction)g???????????\u001b[0m\n\u001b[0m                                                 ^\u001b[0m\n\u001b[0;31mSyntaxError\u001b[0m\u001b[0;31m:\u001b[0m invalid syntax\n"
     ]
    }
   ],
   "source": [
    "coreData_elevation, coreData_heading, coreData_elevation+coreData_heading(-0.44)\n",
    "coreData_elevation*coreData_headin(direction)g???????????\n",
    "\n",
    "coreData_accuracy_semiMajor(0.04)\n",
    "coreData_secMark(time)(-0.02)\n",
    "coreData_position_lat(0.02)\n",
    "coreData_accuracy_semiMinor(-0.019)\n",
    "\n",
    "\n",
    "coreData_position_long(0.3)\n",
    "coreData_elevation(-0.43)\n",
    "coreData_heading(-0.22)"
   ]
  },
  {
   "cell_type": "code",
   "execution_count": 39,
   "metadata": {},
   "outputs": [
    {
     "name": "stdout",
     "output_type": "stream",
     "text": [
      "<class 'pandas.core.frame.DataFrame'>\n",
      "RangeIndex: 32868 entries, 0 to 32867\n",
      "Data columns (total 6 columns):\n",
      " #   Column                  Non-Null Count  Dtype  \n",
      "---  ------                  --------------  -----  \n",
      " 0   height                  32868 non-null  float64\n",
      " 1   direction               32868 non-null  float64\n",
      " 2   headingelevation        32868 non-null  float64\n",
      " 3   speed                   32868 non-null  float64\n",
      " 4   coreData_position_long  32868 non-null  float64\n",
      " 5   Heading_elevation       32868 non-null  float64\n",
      "dtypes: float64(6)\n",
      "memory usage: 1.5 MB\n"
     ]
    },
    {
     "data": {
      "text/html": [
       "<div>\n",
       "<style scoped>\n",
       "    .dataframe tbody tr th:only-of-type {\n",
       "        vertical-align: middle;\n",
       "    }\n",
       "\n",
       "    .dataframe tbody tr th {\n",
       "        vertical-align: top;\n",
       "    }\n",
       "\n",
       "    .dataframe thead th {\n",
       "        text-align: right;\n",
       "    }\n",
       "</style>\n",
       "<table border=\"1\" class=\"dataframe\">\n",
       "  <thead>\n",
       "    <tr style=\"text-align: right;\">\n",
       "      <th></th>\n",
       "      <th>height</th>\n",
       "      <th>direction</th>\n",
       "      <th>headingelevation</th>\n",
       "      <th>speed</th>\n",
       "      <th>coreData_position_long</th>\n",
       "      <th>Heading_elevation</th>\n",
       "    </tr>\n",
       "  </thead>\n",
       "  <tbody>\n",
       "    <tr>\n",
       "      <th>0</th>\n",
       "      <td>5877.624860</td>\n",
       "      <td>247.8375</td>\n",
       "      <td>2039.3375</td>\n",
       "      <td>70.687189</td>\n",
       "      <td>-104.727358</td>\n",
       "      <td>444000.88125</td>\n",
       "    </tr>\n",
       "    <tr>\n",
       "      <th>1</th>\n",
       "      <td>5890.748220</td>\n",
       "      <td>250.0625</td>\n",
       "      <td>2045.5625</td>\n",
       "      <td>70.239802</td>\n",
       "      <td>-104.728560</td>\n",
       "      <td>448987.21875</td>\n",
       "    </tr>\n",
       "    <tr>\n",
       "      <th>2</th>\n",
       "      <td>5879.921448</td>\n",
       "      <td>245.8625</td>\n",
       "      <td>2038.0625</td>\n",
       "      <td>70.374018</td>\n",
       "      <td>-104.725978</td>\n",
       "      <td>440634.77250</td>\n",
       "    </tr>\n",
       "    <tr>\n",
       "      <th>3</th>\n",
       "      <td>5890.420136</td>\n",
       "      <td>249.9625</td>\n",
       "      <td>2045.3625</td>\n",
       "      <td>70.284541</td>\n",
       "      <td>-104.728524</td>\n",
       "      <td>448782.67250</td>\n",
       "    </tr>\n",
       "    <tr>\n",
       "      <th>4</th>\n",
       "      <td>5877.296776</td>\n",
       "      <td>244.9125</td>\n",
       "      <td>2036.3125</td>\n",
       "      <td>70.105586</td>\n",
       "      <td>-104.724160</td>\n",
       "      <td>438736.25250</td>\n",
       "    </tr>\n",
       "    <tr>\n",
       "      <th>...</th>\n",
       "      <td>...</td>\n",
       "      <td>...</td>\n",
       "      <td>...</td>\n",
       "      <td>...</td>\n",
       "      <td>...</td>\n",
       "      <td>...</td>\n",
       "    </tr>\n",
       "    <tr>\n",
       "      <th>32863</th>\n",
       "      <td>5918.963444</td>\n",
       "      <td>259.6500</td>\n",
       "      <td>2063.7500</td>\n",
       "      <td>53.104869</td>\n",
       "      <td>-104.651846</td>\n",
       "      <td>468434.56500</td>\n",
       "    </tr>\n",
       "    <tr>\n",
       "      <th>32864</th>\n",
       "      <td>5936.023812</td>\n",
       "      <td>251.7250</td>\n",
       "      <td>2061.0250</td>\n",
       "      <td>53.910166</td>\n",
       "      <td>-104.659532</td>\n",
       "      <td>455446.04250</td>\n",
       "    </tr>\n",
       "    <tr>\n",
       "      <th>32865</th>\n",
       "      <td>5940.288904</td>\n",
       "      <td>249.9125</td>\n",
       "      <td>2060.5125</td>\n",
       "      <td>53.999644</td>\n",
       "      <td>-104.660456</td>\n",
       "      <td>452491.57250</td>\n",
       "    </tr>\n",
       "    <tr>\n",
       "      <th>32866</th>\n",
       "      <td>5941.273156</td>\n",
       "      <td>250.5875</td>\n",
       "      <td>2061.4875</td>\n",
       "      <td>54.133860</td>\n",
       "      <td>-104.660762</td>\n",
       "      <td>453788.90375</td>\n",
       "    </tr>\n",
       "    <tr>\n",
       "      <th>32867</th>\n",
       "      <td>5926.181292</td>\n",
       "      <td>254.0625</td>\n",
       "      <td>2060.3625</td>\n",
       "      <td>53.954905</td>\n",
       "      <td>-104.656820</td>\n",
       "      <td>458913.09375</td>\n",
       "    </tr>\n",
       "  </tbody>\n",
       "</table>\n",
       "<p>32868 rows × 6 columns</p>\n",
       "</div>"
      ],
      "text/plain": [
       "            height  direction  headingelevation      speed  \\\n",
       "0      5877.624860   247.8375         2039.3375  70.687189   \n",
       "1      5890.748220   250.0625         2045.5625  70.239802   \n",
       "2      5879.921448   245.8625         2038.0625  70.374018   \n",
       "3      5890.420136   249.9625         2045.3625  70.284541   \n",
       "4      5877.296776   244.9125         2036.3125  70.105586   \n",
       "...            ...        ...               ...        ...   \n",
       "32863  5918.963444   259.6500         2063.7500  53.104869   \n",
       "32864  5936.023812   251.7250         2061.0250  53.910166   \n",
       "32865  5940.288904   249.9125         2060.5125  53.999644   \n",
       "32866  5941.273156   250.5875         2061.4875  54.133860   \n",
       "32867  5926.181292   254.0625         2060.3625  53.954905   \n",
       "\n",
       "       coreData_position_long  Heading_elevation  \n",
       "0                 -104.727358       444000.88125  \n",
       "1                 -104.728560       448987.21875  \n",
       "2                 -104.725978       440634.77250  \n",
       "3                 -104.728524       448782.67250  \n",
       "4                 -104.724160       438736.25250  \n",
       "...                       ...                ...  \n",
       "32863             -104.651846       468434.56500  \n",
       "32864             -104.659532       455446.04250  \n",
       "32865             -104.660456       452491.57250  \n",
       "32866             -104.660762       453788.90375  \n",
       "32867             -104.656820       458913.09375  \n",
       "\n",
       "[32868 rows x 6 columns]"
      ]
     },
     "execution_count": 39,
     "metadata": {},
     "output_type": "execute_result"
    }
   ],
   "source": [
    "dataSubset1 = dataSrc[['coreData_elevation','coreData_heading', 'Heading+elevation' , 'coreData_speed', 'coreData_position_long', 'Heading_elevation']] #long????\n",
    "#dataSubset1 = dataSrc[['coreData_elevation','coreData_heading', 'Heading+elevation', 'coreData_accuracy_semiMajor', 'coreData_secMark', 'coreData_position_lat', 'coreData_accuracy_semiMinor'  , 'coreData_speed']]\n",
    "#dataSubset1 = dataSubset.rename(columns={'coreData_position_lat':'lat','coreData_position_long':'lon','coreData_secMark':'time','coreData_elevation':'height','coreData_speed':'speed', 'coreData_heading': 'direction'})\n",
    "dataSubset1 = dataSubset1.rename(columns={'coreData_elevation':'height','coreData_heading':'direction','Heading+elevation':'headingelevation','coreData_speed':'speed'})\n",
    "dataSubset1.info()\n",
    "\n",
    "\n",
    "def metersToFeet(x):\n",
    "    return x * 3.28084\n",
    "def metersPerSecToMPH(x):\n",
    "    return (metersToFeet(x) * 3600) / 5280\n",
    "\n",
    "#standardise\n",
    "\n",
    "dataFt1 = dataSubset1.copy()\n",
    "dataFt1['height'] = metersToFeet(dataSubset1['height'])\n",
    "dataFt1['speed'] = metersPerSecToMPH(dataSubset1['speed'])\n",
    "dataFt1"
   ]
  },
  {
   "cell_type": "code",
   "execution_count": 40,
   "metadata": {},
   "outputs": [
    {
     "name": "stdout",
     "output_type": "stream",
     "text": [
      "<class 'pandas.core.frame.DataFrame'>\n",
      "RangeIndex: 32868 entries, 0 to 32867\n",
      "Data columns (total 6 columns):\n",
      " #   Column                  Non-Null Count  Dtype  \n",
      "---  ------                  --------------  -----  \n",
      " 0   height                  32868 non-null  float64\n",
      " 1   direction               32868 non-null  float64\n",
      " 2   headingelevation        32868 non-null  float64\n",
      " 3   speed                   32868 non-null  float64\n",
      " 4   coreData_position_long  32868 non-null  float64\n",
      " 5   Heading_elevation       32868 non-null  float64\n",
      "dtypes: float64(6)\n",
      "memory usage: 1.5 MB\n"
     ]
    },
    {
     "data": {
      "text/html": [
       "<div>\n",
       "<style scoped>\n",
       "    .dataframe tbody tr th:only-of-type {\n",
       "        vertical-align: middle;\n",
       "    }\n",
       "\n",
       "    .dataframe tbody tr th {\n",
       "        vertical-align: top;\n",
       "    }\n",
       "\n",
       "    .dataframe thead th {\n",
       "        text-align: right;\n",
       "    }\n",
       "</style>\n",
       "<table border=\"1\" class=\"dataframe\">\n",
       "  <thead>\n",
       "    <tr style=\"text-align: right;\">\n",
       "      <th></th>\n",
       "      <th>height</th>\n",
       "      <th>direction</th>\n",
       "      <th>headingelevation</th>\n",
       "      <th>speed</th>\n",
       "      <th>coreData_position_long</th>\n",
       "      <th>Heading_elevation</th>\n",
       "    </tr>\n",
       "  </thead>\n",
       "  <tbody>\n",
       "    <tr>\n",
       "      <th>0</th>\n",
       "      <td>5877.624860</td>\n",
       "      <td>247.8375</td>\n",
       "      <td>2039.3375</td>\n",
       "      <td>70.687189</td>\n",
       "      <td>-104.727358</td>\n",
       "      <td>444000.88125</td>\n",
       "    </tr>\n",
       "    <tr>\n",
       "      <th>1</th>\n",
       "      <td>5890.748220</td>\n",
       "      <td>250.0625</td>\n",
       "      <td>2045.5625</td>\n",
       "      <td>70.239802</td>\n",
       "      <td>-104.728560</td>\n",
       "      <td>448987.21875</td>\n",
       "    </tr>\n",
       "    <tr>\n",
       "      <th>2</th>\n",
       "      <td>5879.921448</td>\n",
       "      <td>245.8625</td>\n",
       "      <td>2038.0625</td>\n",
       "      <td>70.374018</td>\n",
       "      <td>-104.725978</td>\n",
       "      <td>440634.77250</td>\n",
       "    </tr>\n",
       "    <tr>\n",
       "      <th>3</th>\n",
       "      <td>5890.420136</td>\n",
       "      <td>249.9625</td>\n",
       "      <td>2045.3625</td>\n",
       "      <td>70.284541</td>\n",
       "      <td>-104.728524</td>\n",
       "      <td>448782.67250</td>\n",
       "    </tr>\n",
       "    <tr>\n",
       "      <th>4</th>\n",
       "      <td>5877.296776</td>\n",
       "      <td>244.9125</td>\n",
       "      <td>2036.3125</td>\n",
       "      <td>70.105586</td>\n",
       "      <td>-104.724160</td>\n",
       "      <td>438736.25250</td>\n",
       "    </tr>\n",
       "  </tbody>\n",
       "</table>\n",
       "</div>"
      ],
      "text/plain": [
       "        height  direction  headingelevation      speed  \\\n",
       "0  5877.624860   247.8375         2039.3375  70.687189   \n",
       "1  5890.748220   250.0625         2045.5625  70.239802   \n",
       "2  5879.921448   245.8625         2038.0625  70.374018   \n",
       "3  5890.420136   249.9625         2045.3625  70.284541   \n",
       "4  5877.296776   244.9125         2036.3125  70.105586   \n",
       "\n",
       "   coreData_position_long  Heading_elevation  \n",
       "0             -104.727358       444000.88125  \n",
       "1             -104.728560       448987.21875  \n",
       "2             -104.725978       440634.77250  \n",
       "3             -104.728524       448782.67250  \n",
       "4             -104.724160       438736.25250  "
      ]
     },
     "execution_count": 40,
     "metadata": {},
     "output_type": "execute_result"
    }
   ],
   "source": [
    "dataFt1.info()\n",
    "dataFt1.head()"
   ]
  },
  {
   "cell_type": "code",
   "execution_count": 41,
   "metadata": {},
   "outputs": [
    {
     "data": {
      "text/plain": [
       "Index(['height', 'direction', 'headingelevation', 'speed',\n",
       "       'coreData_position_long', 'Heading_elevation'],\n",
       "      dtype='object')"
      ]
     },
     "execution_count": 41,
     "metadata": {},
     "output_type": "execute_result"
    }
   ],
   "source": [
    "dataFt1.columns"
   ]
  },
  {
   "cell_type": "code",
   "execution_count": 38,
   "metadata": {},
   "outputs": [
    {
     "name": "stdout",
     "output_type": "stream",
     "text": [
      "<class 'pandas.core.frame.DataFrame'>\n",
      "RangeIndex: 32868 entries, 0 to 32867\n",
      "Data columns (total 6 columns):\n",
      " #   Column                  Non-Null Count  Dtype  \n",
      "---  ------                  --------------  -----  \n",
      " 0   coreData_elevation      32868 non-null  float64\n",
      " 1   coreData_heading        32868 non-null  float64\n",
      " 2   Heading+elevation       32868 non-null  float64\n",
      " 3   coreData_position_long  32868 non-null  float64\n",
      " 4   Heading_elevation       32868 non-null  float64\n",
      " 5   coreData_speed          32868 non-null  float64\n",
      "dtypes: float64(6)\n",
      "memory usage: 1.5 MB\n",
      "<class 'pandas.core.frame.DataFrame'>\n",
      "RangeIndex: 32868 entries, 0 to 32867\n",
      "Data columns (total 6 columns):\n",
      " #   Column  Non-Null Count  Dtype  \n",
      "---  ------  --------------  -----  \n",
      " 0   0       32868 non-null  float64\n",
      " 1   1       32868 non-null  float64\n",
      " 2   2       32868 non-null  float64\n",
      " 3   3       32868 non-null  float64\n",
      " 4   4       32868 non-null  float64\n",
      " 5   5       32868 non-null  float64\n",
      "dtypes: float64(6)\n",
      "memory usage: 1.5 MB\n"
     ]
    },
    {
     "data": {
      "text/html": [
       "<div>\n",
       "<style scoped>\n",
       "    .dataframe tbody tr th:only-of-type {\n",
       "        vertical-align: middle;\n",
       "    }\n",
       "\n",
       "    .dataframe tbody tr th {\n",
       "        vertical-align: top;\n",
       "    }\n",
       "\n",
       "    .dataframe thead th {\n",
       "        text-align: right;\n",
       "    }\n",
       "</style>\n",
       "<table border=\"1\" class=\"dataframe\">\n",
       "  <thead>\n",
       "    <tr style=\"text-align: right;\">\n",
       "      <th></th>\n",
       "      <th>0</th>\n",
       "      <th>1</th>\n",
       "      <th>2</th>\n",
       "      <th>3</th>\n",
       "      <th>4</th>\n",
       "      <th>5</th>\n",
       "    </tr>\n",
       "  </thead>\n",
       "  <tbody>\n",
       "    <tr>\n",
       "      <th>0</th>\n",
       "      <td>-0.528140</td>\n",
       "      <td>1.242501</td>\n",
       "      <td>0.158673</td>\n",
       "      <td>0.304461</td>\n",
       "      <td>1.037625</td>\n",
       "      <td>0.704918</td>\n",
       "    </tr>\n",
       "    <tr>\n",
       "      <th>1</th>\n",
       "      <td>-0.502040</td>\n",
       "      <td>1.267217</td>\n",
       "      <td>0.190628</td>\n",
       "      <td>0.297431</td>\n",
       "      <td>1.065412</td>\n",
       "      <td>0.671206</td>\n",
       "    </tr>\n",
       "    <tr>\n",
       "      <th>2</th>\n",
       "      <td>-0.523572</td>\n",
       "      <td>1.220561</td>\n",
       "      <td>0.152128</td>\n",
       "      <td>0.312530</td>\n",
       "      <td>1.018866</td>\n",
       "      <td>0.681319</td>\n",
       "    </tr>\n",
       "    <tr>\n",
       "      <th>3</th>\n",
       "      <td>-0.502692</td>\n",
       "      <td>1.266107</td>\n",
       "      <td>0.189601</td>\n",
       "      <td>0.297637</td>\n",
       "      <td>1.064273</td>\n",
       "      <td>0.674577</td>\n",
       "    </tr>\n",
       "    <tr>\n",
       "      <th>4</th>\n",
       "      <td>-0.528792</td>\n",
       "      <td>1.210008</td>\n",
       "      <td>0.143144</td>\n",
       "      <td>0.323161</td>\n",
       "      <td>1.008286</td>\n",
       "      <td>0.661092</td>\n",
       "    </tr>\n",
       "  </tbody>\n",
       "</table>\n",
       "</div>"
      ],
      "text/plain": [
       "          0         1         2         3         4         5\n",
       "0 -0.528140  1.242501  0.158673  0.304461  1.037625  0.704918\n",
       "1 -0.502040  1.267217  0.190628  0.297431  1.065412  0.671206\n",
       "2 -0.523572  1.220561  0.152128  0.312530  1.018866  0.681319\n",
       "3 -0.502692  1.266107  0.189601  0.297637  1.064273  0.674577\n",
       "4 -0.528792  1.210008  0.143144  0.323161  1.008286  0.661092"
      ]
     },
     "execution_count": 38,
     "metadata": {},
     "output_type": "execute_result"
    }
   ],
   "source": [
    "from sklearn.preprocessing import StandardScaler\n",
    "dataSrc1 = dataSrc[['coreData_elevation','coreData_heading', 'Heading+elevation' , 'coreData_position_long', 'Heading_elevation','coreData_speed']]\n",
    "dataSrc1.info()\n",
    "dataSrc1_std = pd.DataFrame(StandardScaler().fit_transform(dataSrc1))\n",
    "#dataSrc1[['coreData_elevation','coreData_heading', 'Heading+elevation' , 'coreData_speed', 'coreData_position_long', 'Heading_elevation']] = StandardScaler().fit_transform(df[['coreData_elevation','coreData_heading', 'Heading+elevation' , 'coreData_speed', 'coreData_position_long', 'Heading_elevation']])\n",
    "dataSrc1_std.info()\n",
    "dataSrc1_std.head()"
   ]
  },
  {
   "cell_type": "code",
   "execution_count": 39,
   "metadata": {},
   "outputs": [
    {
     "data": {
      "text/plain": [
       "RangeIndex(start=0, stop=6, step=1)"
      ]
     },
     "execution_count": 39,
     "metadata": {},
     "output_type": "execute_result"
    }
   ],
   "source": [
    "dataSrc1_std.columns"
   ]
  },
  {
   "cell_type": "code",
   "execution_count": 40,
   "metadata": {},
   "outputs": [],
   "source": [
    "X_train1, X_test1, y_train1, y_test1 = train_test_split(dataSrc1_std[[0,1,2]], dataSrc1_std[5], test_size=0.2)"
   ]
  },
  {
   "cell_type": "code",
   "execution_count": 43,
   "metadata": {},
   "outputs": [],
   "source": [
    "X_train, X_test, y_train, y_test = train_test_split(dataSrc[['coreData_elevation','coreData_heading', 'Heading_elevation']], dataSrc['coreData_speed'], test_size=0.2)"
   ]
  },
  {
   "cell_type": "code",
   "execution_count": 43,
   "metadata": {},
   "outputs": [],
   "source": [
    "from sklearn.metrics import mean_squared_error, accuracy_score"
   ]
  },
  {
   "cell_type": "code",
   "execution_count": 63,
   "metadata": {},
   "outputs": [],
   "source": [
    "#SVM\n",
    "polyLonModel = svm.SVR()\n",
    "polyLonModel.fit(X_train, y_train)\n",
    "predictions = polyLonModel.predict(X_test)\n",
    "#print(\"Model Accuracy: {0:.2f}%\".format(polyLonModel.score(X_test, y_test) * 100))\n",
    "#print('Accuracy : ',accuracy_score(y_test, predictions) )"
   ]
  },
  {
   "cell_type": "code",
   "execution_count": 71,
   "metadata": {},
   "outputs": [
    {
     "name": "stdout",
     "output_type": "stream",
     "text": [
      "6574\n",
      "<class 'list'>\n",
      "6574\n",
      "<class 'list'>\n"
     ]
    }
   ],
   "source": [
    "print(len(y_test))\n",
    "print(type(y_test.to_list()))\n",
    "#print(y_test.to_list())\n",
    "print(len(predictions))\n",
    "#predictions = [round(i,2) for i in predictions]\n",
    "print(type(list(predictions)))\n",
    "#print(list(predictions))"
   ]
  },
  {
   "cell_type": "code",
   "execution_count": 72,
   "metadata": {},
   "outputs": [
    {
     "name": "stdout",
     "output_type": "stream",
     "text": [
      "30.34\n",
      "29.74\n"
     ]
    }
   ],
   "source": [
    "print(y_test.to_list()[0])\n",
    "print(list(predictions)[0])"
   ]
  },
  {
   "cell_type": "code",
   "execution_count": 73,
   "metadata": {},
   "outputs": [
    {
     "name": "stdout",
     "output_type": "stream",
     "text": [
      "4.976940910589786\n",
      "31.835201032476277\n"
     ]
    }
   ],
   "source": [
    "import math\n",
    "\n",
    "#print('Accuracy : ',accuracy_score(y_test.to_list(), list(predictions)))\n",
    "mse = mean_squared_error(y_test.to_list(), list(predictions))\n",
    "rmse = math.sqrt(mse)\n",
    "print(rmse)\n",
    "\n",
    "from sklearn.metrics import r2_score\n",
    "r2_score_value = r2_score(y_test.to_list(), list(predictions))\n",
    "print(r2_score_value*100)"
   ]
  },
  {
   "cell_type": "code",
   "execution_count": null,
   "metadata": {},
   "outputs": [],
   "source": []
  },
  {
   "cell_type": "code",
   "execution_count": null,
   "metadata": {},
   "outputs": [],
   "source": []
  },
  {
   "cell_type": "code",
   "execution_count": 41,
   "metadata": {},
   "outputs": [],
   "source": [
    "#SVM - DO standardization???????????????????????????????? before correlation??????????\n",
    "polyLonModel = svm.SVR()\n",
    "polyLonModel.fit(X_train1, y_train1)\n",
    "predictions = polyLonModel.predict(X_test1)\n",
    "#print(\"Model Accuracy: {0:.2f}%\".format(polyLonModel.score(X_test, y_test) * 100))\n",
    "#print('Accuracy : ',accuracy_score(y_test, predictions) )"
   ]
  },
  {
   "cell_type": "code",
   "execution_count": 44,
   "metadata": {},
   "outputs": [
    {
     "name": "stdout",
     "output_type": "stream",
     "text": [
      "0.7836976558146886\n",
      "39.711060606976055\n"
     ]
    }
   ],
   "source": [
    "import math\n",
    "\n",
    "#print('Accuracy : ',accuracy_score(y_test.to_list(), list(predictions)))\n",
    "mse = mean_squared_error(y_test1.to_list(), list(predictions))\n",
    "rmse = math.sqrt(mse)\n",
    "print(rmse)\n",
    "\n",
    "from sklearn.metrics import r2_score\n",
    "r2_score_value = r2_score(y_test1.to_list(), list(predictions))\n",
    "print(r2_score_value*100)"
   ]
  },
  {
   "cell_type": "code",
   "execution_count": null,
   "metadata": {},
   "outputs": [],
   "source": []
  },
  {
   "cell_type": "code",
   "execution_count": null,
   "metadata": {},
   "outputs": [],
   "source": []
  },
  {
   "cell_type": "code",
   "execution_count": 80,
   "metadata": {},
   "outputs": [],
   "source": [
    "#SVR, such as kernel, C, gamma, and degree\n",
    "polyLonModel = svm.SVR(C=2, epsilon=0.1, gamma='scale', degree=3)\n",
    "polyLonModel.fit(X_train, y_train)\n",
    "predictions1 = polyLonModel.predict(X_test)\n",
    "\n",
    "#class sklearn.svm.SVR(*, kernel='rbf', degree=3, gamma='scale', coef0=0.0, \n",
    "#tol=0.001, C=1.0, epsilon=0.1, shrinking=True, cache_size=200, verbose=False, max_iter=- 1)[source]"
   ]
  },
  {
   "cell_type": "code",
   "execution_count": 81,
   "metadata": {},
   "outputs": [
    {
     "name": "stdout",
     "output_type": "stream",
     "text": [
      "30.34\n",
      "29.636704068314167\n"
     ]
    }
   ],
   "source": [
    "print(y_test.to_list()[0])\n",
    "print(list(predictions1)[0])"
   ]
  },
  {
   "cell_type": "code",
   "execution_count": 82,
   "metadata": {},
   "outputs": [
    {
     "name": "stdout",
     "output_type": "stream",
     "text": [
      "4.934048479974287\n",
      "33.00505824714445\n"
     ]
    }
   ],
   "source": [
    "mse = mean_squared_error(y_test.to_list(), list(predictions1))\n",
    "rmse = math.sqrt(mse)\n",
    "print(rmse)\n",
    "\n",
    "from sklearn.metrics import r2_score\n",
    "r2_score_value = r2_score(y_test.to_list(), list(predictions1))\n",
    "print(r2_score_value*100)"
   ]
  },
  {
   "cell_type": "code",
   "execution_count": null,
   "metadata": {},
   "outputs": [],
   "source": []
  },
  {
   "cell_type": "code",
   "execution_count": null,
   "metadata": {},
   "outputs": [],
   "source": []
  },
  {
   "cell_type": "code",
   "execution_count": 50,
   "metadata": {},
   "outputs": [],
   "source": [
    "from sklearn.linear_model import Lasso\n",
    "model = Lasso(alpha=1.0)model.fit(X_train, y_train)\n",
    "predictions = model.predict(X_test)\n",
    "#print('Accuracy : ',accuracy_score(y_test.to_list(), list(predictions)))"
   ]
  },
  {
   "cell_type": "code",
   "execution_count": 51,
   "metadata": {},
   "outputs": [
    {
     "name": "stdout",
     "output_type": "stream",
     "text": [
      "5.333998526094122\n",
      "21.703748234144726\n"
     ]
    }
   ],
   "source": [
    "mse = mean_squared_error(y_test.to_list(), list(predictions))\n",
    "rmse = math.sqrt(mse)\n",
    "print(rmse)\n",
    "\n",
    "from sklearn.metrics import r2_score\n",
    "r2_score_value = r2_score(y_test.to_list(), list(predictions))\n",
    "print(r2_score_value*100)"
   ]
  },
  {
   "cell_type": "code",
   "execution_count": null,
   "metadata": {},
   "outputs": [],
   "source": []
  },
  {
   "cell_type": "code",
   "execution_count": null,
   "metadata": {},
   "outputs": [],
   "source": []
  },
  {
   "cell_type": "code",
   "execution_count": 52,
   "metadata": {},
   "outputs": [],
   "source": [
    "from sklearn.linear_model import ElasticNet\n",
    "model = ElasticNet(alpha=1.0, l1_ratio=0.5)\n",
    "model.fit(X_train, y_train)\n",
    "predictions = model.predict(X_test)"
   ]
  },
  {
   "cell_type": "code",
   "execution_count": 53,
   "metadata": {},
   "outputs": [
    {
     "name": "stdout",
     "output_type": "stream",
     "text": [
      "5.335583701840584\n",
      "21.65720462865287\n"
     ]
    }
   ],
   "source": [
    "mse = mean_squared_error(y_test.to_list(), list(predictions))\n",
    "rmse = math.sqrt(mse)\n",
    "print(rmse)\n",
    "\n",
    "from sklearn.metrics import r2_score\n",
    "r2_score_value = r2_score(y_test.to_list(), list(predictions))\n",
    "print(r2_score_value*100)"
   ]
  },
  {
   "cell_type": "code",
   "execution_count": null,
   "metadata": {},
   "outputs": [],
   "source": []
  },
  {
   "cell_type": "code",
   "execution_count": null,
   "metadata": {},
   "outputs": [],
   "source": []
  },
  {
   "cell_type": "code",
   "execution_count": 54,
   "metadata": {},
   "outputs": [],
   "source": [
    "from sklearn.linear_model import Ridge\n",
    "model = Ridge(alpha=1.0)\n",
    "model.fit(X_train, y_train)\n",
    "predictions = model.predict(X_test)"
   ]
  },
  {
   "cell_type": "code",
   "execution_count": 55,
   "metadata": {},
   "outputs": [
    {
     "name": "stdout",
     "output_type": "stream",
     "text": [
      "5.338251296907267\n",
      "21.578848029268826\n"
     ]
    }
   ],
   "source": [
    "mse = mean_squared_error(y_test.to_list(), list(predictions))\n",
    "rmse = math.sqrt(mse)\n",
    "print(rmse)\n",
    "\n",
    "from sklearn.metrics import r2_score\n",
    "r2_score_value = r2_score(y_test.to_list(), list(predictions))\n",
    "print(r2_score_value*100)"
   ]
  },
  {
   "cell_type": "code",
   "execution_count": null,
   "metadata": {},
   "outputs": [],
   "source": []
  },
  {
   "cell_type": "code",
   "execution_count": null,
   "metadata": {},
   "outputs": [],
   "source": []
  },
  {
   "cell_type": "code",
   "execution_count": null,
   "metadata": {},
   "outputs": [],
   "source": [
    "#converting  metersToFeet and metersPerSecToMPH??????????????????\n",
    "def metersToFeet(x):\n",
    "    return x * 3.28084\n",
    "def metersPerSecToMPH(x):\n",
    "    return (metersToFeet(x) * 3600) / 5280"
   ]
  },
  {
   "cell_type": "code",
   "execution_count": null,
   "metadata": {},
   "outputs": [],
   "source": []
  },
  {
   "cell_type": "code",
   "execution_count": null,
   "metadata": {},
   "outputs": [],
   "source": [
    "###### Your code here, showing results on your models.\n",
    "###### Feel free to add additional cells. Good luck!\n",
    "\n",
    "#speed label\n",
    "\n",
    "#'lat', 'lon', 'time', 'height', 'speed', 'direction'\n",
    "#polynomial features - lat*lon\n",
    "\n",
    "polyLonModel = svm.SVR()\n",
    "X_train, X_test, y_train, y_test = train_test_split(polyFeatures[['lat','lon','latlon']], dataFt['height'], test_size=0.2)\n",
    "polyLonModel.fit(X_train, y_train)\n",
    "(polyLonModel.score(X_test, y_test) * 100)\n",
    "#class sklearn.svm.SVR(*, kernel='rbf', degree=3, gamma='scale', coef0=0.0, \n",
    "#tol=0.001, C=1.0, epsilon=0.1, shrinking=True, cache_size=200, verbose=False, max_iter=- 1)[source]\n",
    "\n",
    "#1. best model and accuracy?\n",
    "#2. parameters to achieve using accuracy?\n",
    "#3. features to choose?\n",
    "#4. what may be strength to best model?\n",
    "#5. why is it harder to predict speed?\n",
    "\n",
    "#Linear Regression model - Lasso, ElasticNet, Ridge\n",
    "#Lasso\n",
    "from sklearn.linear_model import Lasso\n",
    "model = Lasso(alpha=1.0)\n",
    "model.fit(X, y)\n",
    "model.predict(y)\n",
    "\n",
    "#ElasticNet\n",
    "from sklearn.linear_model import ElasticNet\n",
    "model = ElasticNet(alpha=1.0, l1_ratio=0.5)\n",
    "model.fit(X, y)\n",
    "model.predict(y)\n",
    "\n",
    "#Ridge\n",
    "from sklearn.linear_model import Ridge\n",
    "model = Ridge(alpha=1.0)\n",
    "model.fit(X, y)\n",
    "model.predict(y)\n",
    "\n",
    "#class sklearn.linear_model.LinearRegression(*,\n",
    "#fit_intercept=True, normalize='deprecated', copy_X=True, n_jobs=None, positive=False)\n",
    "\n",
    "#PCA??"
   ]
  },
  {
   "cell_type": "markdown",
   "metadata": {},
   "source": [
    "<div style=\"font-size:20px;background-color:#A74A54;color:#F1E6E7;padding:10px;\">\n",
    "    Questions \n",
    "</div>"
   ]
  },
  {
   "cell_type": "markdown",
   "metadata": {},
   "source": [
    "<div style=\"width:100%;\">\n",
    "    <div style=\"width:15%;float:left;font-size:20px;background-color:#557aba;color:#eff3f9;padding:6px;font-wight:bold;text-align:center;\">\n",
    "    Question 1\n",
    "    </div>\n",
    "    <div style=\"width:85%;float:right;font-size:16px;background-color:#dce4f2;font-wight:normal;color:black;padding:6px;\">\n",
    "    What was your best model and accuracy? \n",
    "    </div>\n",
    "</div>"
   ]
  },
  {
   "cell_type": "raw",
   "metadata": {},
   "source": [
    "## Place your answer here"
   ]
  },
  {
   "cell_type": "markdown",
   "metadata": {},
   "source": [
    "<div style=\"width:100%;\">\n",
    "    <div style=\"width:15%;float:left;font-size:20px;background-color:#557aba;color:#eff3f9;padding:6px;font-wight:bold;text-align:center;\">\n",
    "    Question 2\n",
    "    </div>\n",
    "    <div style=\"width:85%;float:right;font-size:16px;background-color:#dce4f2;font-wight:normal;color:black;padding:6px;\">\n",
    "    What parameter settings did you use to achieve that accuracy?\n",
    "    </div>\n",
    "</div>"
   ]
  },
  {
   "cell_type": "raw",
   "metadata": {},
   "source": [
    "## Place your answer here"
   ]
  },
  {
   "cell_type": "markdown",
   "metadata": {},
   "source": [
    "<div style=\"width:100%;\">\n",
    "    <div style=\"width:15%;float:left;font-size:20px;background-color:#557aba;color:#eff3f9;padding:6px;font-wight:bold;text-align:center;\">\n",
    "    Question 3\n",
    "    </div>\n",
    "    <div style=\"width:85%;float:right;font-size:16px;background-color:#dce4f2;font-wight:normal;color:black;padding:6px;\">\n",
    "    What features did you choose? Why?\n",
    "    </div>\n",
    "</div>"
   ]
  },
  {
   "cell_type": "raw",
   "metadata": {},
   "source": [
    "## Place your answer here"
   ]
  },
  {
   "cell_type": "markdown",
   "metadata": {},
   "source": [
    "<div style=\"width:100%;\">\n",
    "    <div style=\"width:15%;float:left;font-size:20px;background-color:#557aba;color:#eff3f9;padding:6px;font-wight:bold;text-align:center;\">\n",
    "    Question 4\n",
    "    </div>\n",
    "    <div style=\"width:85%;float:right;font-size:16px;background-color:#dce4f2;font-wight:normal;color:black;padding:12px;\">\n",
    "    For the model of your most successful experiment (SVR, Lasso, ElasticNet, etc), what can you say about it's strengths related to this problem?\n",
    "    </div>\n",
    "</div>"
   ]
  },
  {
   "cell_type": "raw",
   "metadata": {},
   "source": [
    "## Place your answer here"
   ]
  },
  {
   "cell_type": "markdown",
   "metadata": {},
   "source": [
    "<div style=\"width:100%;\">\n",
    "    <div style=\"width:15%;float:left;font-size:20px;background-color:#557aba;color:#eff3f9;padding:6px;font-wight:bold;text-align:center;\">\n",
    "    Question 5\n",
    "    </div>\n",
    "    <div style=\"width:85%;float:right;font-size:16px;background-color:#dce4f2;font-wight:normal;color:black;padding:6px;\">\n",
    "   Why is it harder to predict speed than height?\n",
    "    </div>\n",
    "</div>"
   ]
  },
  {
   "cell_type": "raw",
   "metadata": {},
   "source": [
    "## Place your answer here"
   ]
  },
  {
   "cell_type": "markdown",
   "metadata": {},
   "source": [
    "<hr style=\"border-top: 5px solid purple; margin-top: 1px; margin-bottom: 1px\"></hr>"
   ]
  },
  {
   "cell_type": "markdown",
   "metadata": {},
   "source": [
    "<hr style=\"border-top: 5px solid orange; margin-top: 1px; margin-bottom: 1px\"></hr>\n",
    "\n",
    "Submission: Once you're finished, select \"Save and Checkpoint\" in the File menu and then execute the submit cell below. The result will contain a link that you can use to check that your assignment has been submitted successfully. If you submit more than once before the deadline, we will only grade your final submission. If you mistakenly submit the wrong one, you can go to the URL that you got at the very beginning of this homework and flag the correct version. To do so, go to the website, click on this assignment, and find the version you would like to have graded. There should be an option to flag that submission for grading. Good luck!"
   ]
  },
  {
   "cell_type": "code",
   "execution_count": null,
   "metadata": {},
   "outputs": [],
   "source": [
    "_ = ok.submit()"
   ]
  },
  {
   "cell_type": "markdown",
   "metadata": {},
   "source": [
    "<hr style=\"border-top: 5px solid orange; margin-top: 1px; margin-bottom: 1px\"></hr>"
   ]
  },
  {
   "cell_type": "code",
   "execution_count": null,
   "metadata": {},
   "outputs": [],
   "source": []
  }
 ],
 "metadata": {
  "kernelspec": {
   "display_name": "Python 3",
   "language": "python",
   "name": "python3"
  },
  "language_info": {
   "codemirror_mode": {
    "name": "ipython",
    "version": 3
   },
   "file_extension": ".py",
   "mimetype": "text/x-python",
   "name": "python",
   "nbconvert_exporter": "python",
   "pygments_lexer": "ipython3",
   "version": "3.7.6"
  }
 },
 "nbformat": 4,
 "nbformat_minor": 2
}
